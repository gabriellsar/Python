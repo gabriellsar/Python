{
 "cells": [
  {
   "cell_type": "markdown",
   "id": "7adce6e7",
   "metadata": {},
   "source": [
    "# Listas em Python\n",
    "Estrutura:\n",
    "lista = [valor, valor, valor, valor, ...]\n",
    "\n",
    "- lista[i] -> é o valor de índice i da lista.<br>\n",
    "Obs: Lembre que no python o índice começa em 0, então o primeiro item de uma lista é o item lista[0]\n",
    "\n",
    "Para substituir um valor de uma lista você pode fazer:\n",
    "- lista[i] = novo_valor<br>\n",
    "\n",
    "Listas de Produtos de uma Loja:"
   ]
  },
  {
   "cell_type": "code",
   "execution_count": 3,
   "id": "86312366",
   "metadata": {},
   "outputs": [],
   "source": [
    "produtos = ['tv', 'celular', 'mouse', 'teclado', 'tablet']"
   ]
  },
  {
   "cell_type": "code",
   "execution_count": 4,
   "id": "7340f012",
   "metadata": {},
   "outputs": [],
   "source": [
    "vendas = [1000, 1500, 350, 270, 900]\n"
   ]
  },
  {
   "cell_type": "code",
   "execution_count": null,
   "id": "a980cf1b",
   "metadata": {
    "scrolled": false
   },
   "outputs": [],
   "source": [
    "vendas[3]=1000\n",
    "\n",
    "print('Vendas do produto {} foram de {}'.format(produtos[3],vendas[3]))"
   ]
  },
  {
   "cell_type": "code",
   "execution_count": null,
   "id": "1aefb460",
   "metadata": {},
   "outputs": [],
   "source": [
    "texto = 'gabrielsrosas@gmail.com'\n",
    "texto = texto.replace('a','i')\n",
    "print(texto)"
   ]
  },
  {
   "cell_type": "markdown",
   "id": "61a4d7e6",
   "metadata": {},
   "source": [
    "# Descobrindo o indice na lista"
   ]
  },
  {
   "cell_type": "markdown",
   "id": "57415d35",
   "metadata": {},
   "source": [
    "- i = lista.index('item')<br>"
   ]
  },
  {
   "cell_type": "code",
   "execution_count": 11,
   "id": "3cd69a7f",
   "metadata": {},
   "outputs": [],
   "source": [
    "prods = ['tv', 'celular', 'mouse', 'teclado', 'tablet','geladeira','forno']\n",
    "estoque = [1000, 1500, 350, 270, 900,737,223]"
   ]
  },
  {
   "cell_type": "code",
   "execution_count": null,
   "id": "4d3a2899",
   "metadata": {},
   "outputs": [],
   "source": [
    "i = prods.index('geladeira')\n",
    "\n",
    "print(i)\n",
    "print(prods[i])\n",
    "\n",
    "qtd_estoque = estoque[i]\n",
    "\n",
    "print(qtd_estoque)\n",
    "\n"
   ]
  },
  {
   "cell_type": "code",
   "execution_count": null,
   "id": "c8c431f7",
   "metadata": {},
   "outputs": [],
   "source": [
    "nome_do_produto = input('Qual o produto')\n",
    "\n",
    "if nome_do_produto in prods:\n",
    "    index = prods.index(nome_do_produto)\n",
    "    qtd_estoque = estoque[index]\n",
    "    print('Temos {} unidades de {} no estoque'.format(qtd_estoque,nome_do_produto))\n",
    "else:\n",
    "    print('{} o nome do produto nao existe no estoque'.format(nome_do_produto))\n",
    "    "
   ]
  },
  {
   "cell_type": "markdown",
   "id": "4622eab2",
   "metadata": {},
   "source": [
    "# Adicionar e Remover itens de uma lista\n",
    "Adicionar:\n",
    "- lista.append(item)<br>\n",
    "\n",
    "Remover:\n",
    "- item_removido = lista.pop(indice)<br>\n",
    "- lista.remove(item)<br>\n"
   ]
  },
  {
   "cell_type": "code",
   "execution_count": null,
   "id": "fd35e25b",
   "metadata": {},
   "outputs": [],
   "source": [
    "produto = ['apple tv', 'mac', 'iphone x', 'IPad', 'apple watch', 'mac book', 'airpods']\n",
    "\n",
    "produto.append('iphone 11')\n",
    "\n",
    "removido = produto.pop(2)\n",
    "\n",
    "#ou\n",
    "\n",
    "produto_remove = 'iphonex'\n",
    "\n",
    "if produto_remove in produto:\n",
    "    produto.remove('iphonex')\n",
    "    print('{} foi removido da lista'.format(produto_remove))\n",
    "else:\n",
    "    print('{}  nao existe na lista'.format(produto_remove))\n",
    "    "
   ]
  },
  {
   "cell_type": "markdown",
   "id": "95f7f65c",
   "metadata": {},
   "source": [
    "# Existem 2 formas de tratar o erro:\n",
    "Criar um if para evitar que ele aconteça\n",
    "\n",
    "Esperar que ele possa acontecer e tratar caso o erro aconteça com:"
   ]
  },
  {
   "cell_type": "markdown",
   "id": "e98e7721",
   "metadata": {},
   "source": [
    "try:\n",
    "    tentar fazer\n",
    "except:\n",
    "    caso dê errado"
   ]
  },
  {
   "cell_type": "code",
   "execution_count": null,
   "id": "bb7b8cfe",
   "metadata": {},
   "outputs": [],
   "source": [
    "try:\n",
    "    produto.remove('iphonex')\n",
    "except:\n",
    "     print('iphonex  nao existe na lista')"
   ]
  },
  {
   "cell_type": "markdown",
   "id": "216cef4a",
   "metadata": {},
   "source": [
    "# Funções Basicas"
   ]
  },
  {
   "cell_type": "markdown",
   "id": "e5e26c16",
   "metadata": {},
   "source": [
    "- tamanho = len(lista)<br>\n",
    "\n",
    "- maximo = max(lista)<br>\n",
    "\n",
    "- minimo = min(lista)<br>"
   ]
  },
  {
   "cell_type": "code",
   "execution_count": 20,
   "id": "645a763c",
   "metadata": {},
   "outputs": [],
   "source": [
    "prods = ['tv', 'celular', 'mouse', 'teclado', 'tablet','geladeira','forno']\n",
    "estoque = [1000, 1500, 350, 270, 900,737,223]"
   ]
  },
  {
   "cell_type": "code",
   "execution_count": null,
   "id": "da67fb56",
   "metadata": {},
   "outputs": [],
   "source": [
    "print(len(prods))\n",
    "\n",
    "print(max(estoque))\n",
    "print(min(estoque))\n"
   ]
  },
  {
   "cell_type": "markdown",
   "id": "60dbcec0",
   "metadata": {},
   "source": [
    "# Juntar Listas, Ordenar e Cuidados Especiais\n",
    "## 2 formas:\n",
    "\n",
    "- lista1.extend(lista2)<br>\n",
    "\n",
    "- lista_nova = lista1 + lista2<br>\n",
    "\n",
    "Obs: o Método .append não junta listas, mas adiciona um valor no final da lista"
   ]
  },
  {
   "cell_type": "code",
   "execution_count": null,
   "id": "33ac4524",
   "metadata": {},
   "outputs": [],
   "source": [
    "produto = ['apple tv', 'mac', 'iphone x','iphone 11', 'IPad', 'apple watch', 'mac book', 'airpods']\n",
    "novos_produtos = ['iphone 12','ijesus']\n",
    "vendas = [1000, 1500, 350, 270, 900,1553,2000,750]\n",
    "\n",
    "produto.extend(novos_produtos)\n",
    "\n",
    "print(produto,'\\n')\n",
    "\n",
    "#ou\n",
    "\n",
    "todos_os_produtos = produto + novos_produtos\n",
    "\n",
    "print(todos_os_produtos)\n"
   ]
  },
  {
   "cell_type": "markdown",
   "id": "9116bf94",
   "metadata": {},
   "source": [
    "## Cuidado:\n",
    "[1] + [2] não é a mesma coisa que 1 + 2, então cuidado sempre com o formato dos valores na hora de fazer operações."
   ]
  },
  {
   "cell_type": "code",
   "execution_count": null,
   "id": "aa51a957",
   "metadata": {},
   "outputs": [],
   "source": [
    "vendas = [1000, 1500, 1000, 270, 900,1553,2000,750]\n",
    "vendasX =[1500]\n",
    "venda11 = [1000]\n",
    "\n",
    "total_iphone = vendas[2] + vendas[3]\n",
    "total_iphone_listas = vendasX + vendas11\n",
    "\n",
    "print(total_iphone)\n",
    "print(total_iphone_listas)\n"
   ]
  },
  {
   "cell_type": "markdown",
   "id": "990cec30",
   "metadata": {},
   "source": [
    "# Ordenar listas:\n",
    "- lista.sort()<br>\n",
    "\n",
    "Obs: Cuidade quando usar o .sort()  para nao perder a ligação entre as listas"
   ]
  },
  {
   "cell_type": "code",
   "execution_count": null,
   "id": "364a6feb",
   "metadata": {},
   "outputs": [],
   "source": [
    "vendas.sort()\n",
    "#vendas.sort(reverse=True)\n",
    "print(vendas)\n",
    "\n",
    "produto.sort()\n",
    "print(produto)\n"
   ]
  },
  {
   "cell_type": "markdown",
   "id": "25c375ed",
   "metadata": {},
   "source": [
    "# Print de Listas\n",
    "## 2 opções:\n",
    "- print \"normal\"<br>\n",
    "\n",
    "- metodo join = texto.join()<br>"
   ]
  },
  {
   "cell_type": "code",
   "execution_count": null,
   "id": "3a4ed5d9",
   "metadata": {},
   "outputs": [],
   "source": [
    "produto = ['apple tv', 'mac', 'iphone x','iphone 11', 'IPad', 'apple watch', 'mac book', 'airpods']\n",
    "print(produto,'\\n')\n",
    "\n",
    "print('\\n'.join(produto))"
   ]
  },
  {
   "cell_type": "markdown",
   "id": "d85ed38d",
   "metadata": {},
   "source": [
    "Lembrando do metodo split:\n",
    "\n",
    "lista =  texto.split('separador')"
   ]
  },
  {
   "cell_type": "code",
   "execution_count": null,
   "id": "3b856817",
   "metadata": {},
   "outputs": [],
   "source": [
    "produto_split = 'apple tv, mac, iphone x, iphone 11, IPad, apple watch, mac book, airpods'\n",
    "lista = produto_split.split(', ')\n",
    "\n",
    "print(lista)"
   ]
  },
  {
   "cell_type": "markdown",
   "id": "0c8af7d5",
   "metadata": {},
   "source": [
    "# Métodos Específicos de Lista em Python\n",
    "\n",
    "- list.append(valor)<br>\n",
    "Adiciona um valor ao final de uma lista\n",
    "\n",
    "Uso:\n",
    "    vendas = [150, 320]\n",
    "    vendas.append(110)\n",
    "Resultado:\n",
    "    vendas = [150, 320, 110]\n",
    "\n",
    "- list.extend(lista2)<br>\n",
    "Adiciona todos os valores da lista2 na lista original\n",
    "\n",
    "Uso:\n",
    "    vendas = [150, 320, 110, 450, 390, 370]\n",
    "    vendas_2semestre = [440, 470, 900, 1000, 1100, 1050]\n",
    "    vendas.extend(vendas_2semestre)\n",
    "Resultado:\n",
    "    vendas = [150, 320, 110, 450, 390, 370, 440, 470, 900, 1000, 1100, 1050]\n",
    "\n",
    "- list.insert(posicao, valor)<br>\n",
    "Adiciona um valor em uma posição específica em uma lista. Não é recomendado usar a não ser que seja realmente necessário inserir em uma posição específica, porque o método append é mais eficiente.\n",
    "\n",
    "Uso:\n",
    "    vendas = [150, 320]\n",
    "    vendas.insert(1, 110)\n",
    "Resultado:\n",
    "    vendas = [150, 110, 320]\n",
    "Obs:\n",
    "    Compare com o caso do list.append para ver a diferença\n",
    "\n",
    "- list.remove(valor)<br>\n",
    "Remove o valor da lista (apenas a 1ª ocorrência, então caso haja 2 vezes o valor na lista, apenas a 1ª será removida). Além disso, dá um erro caso valor não exista dentro da lista.\n",
    "\n",
    "Uso:\n",
    "    vendedores = ['João', 'Julia', 'Maria', 'Ana', 'Paulo', 'Marcus']\n",
    "    vendedores.remove('Maria')\n",
    "Resultado:\n",
    "    vendedores = ['João', 'Julia', 'Ana', 'Paulo', 'Marcus']\n",
    "\n",
    "- list.pop(posicao)<br>\n",
    "Remove o item que está na posicao (índice) passado. Além disso, esse item é dado como resultado do pop, portanto pode ser armazenado em uma variável ou usado para outra coisa na mesma linha de código.\n",
    "\n",
    "Uso:<br>\n",
    "    vendedores = ['João', 'Julia', 'Maria', 'Ana', 'Paulo', 'Marcus']<br>\n",
    "    vendedores.pop(2)<br>\n",
    "Resultado:<br>\n",
    "    vendedores = ['João', 'Julia', 'Ana', 'Paulo', 'Marcus']\n",
    "\n",
    "- list.clear()<br>\n",
    "Remove todos os itens de uma lista\n",
    "\n",
    "Uso:\n",
    "    vendedores = ['João', 'Julia', 'Maria', 'Ana', 'Paulo', 'Marcus']\n",
    "    vendedores.clear()\n",
    "Resultado:\n",
    "    vendedores = []\n",
    "\n",
    "- list.index(valor)<br>\n",
    "Retorna a posição do valor dentro da lista (em qual índice está o valor). Dá erro caso não haja o valor dentro da lista.\n",
    "\n",
    "Uso:\n",
    "    vendedores = ['João', 'Julia', 'Maria', 'Ana', 'Paulo', 'Marcus']\n",
    "    posicao_Joao = vendedores.index('João')\n",
    "Resultado:\n",
    "    posicao_Joao = 0\n",
    "\n",
    "- list.count(valor)<br>\n",
    "Retorna a quantidade de vezes que o valor aparece na lista\n",
    "\n",
    "Uso:\n",
    "    vendedores = ['João', 'Julia', 'Maria', 'Ana', 'Paulo', 'Marcus', 'João']\n",
    "    qtde_Joao = vendedores.count('João')\n",
    "Resultado:\n",
    "    qtde_Joao = 2\n",
    "\n",
    "- list.sort(reverse=False)<br>\n",
    "Ordena os valores da lista em ordem crescente, ou alfabética, (reverse=False) ou decrescente (reverse=True).\n",
    "\n",
    "Uso:\n",
    "    vendas = [150, 300, 190, 480]\n",
    "    vendas.sort(reverse=True)\n",
    "Resultado:\n",
    "    vendas = [480, 300, 190, 150]\n",
    "\n",
    "- list.reverse()<br>\n",
    "Inverte a ordem dos elementos de uma lista.\n",
    "\n",
    "Uso:\n",
    "    vendas = [150, 300, 190, 480]\n",
    "    vendas.reverse()\n",
    "Resultado:\n",
    "    vendas = [480, 190, 300, 150]\n",
    "\n",
    "- list.copy()<br>\n",
    "Cria uma cópia da lista original. Outra opção é fazer lista2 = lista1[:]\n",
    "\n",
    "Uso:\n",
    "    vendas = [150, 300, 190, 480]\n",
    "    vendas2 = vendas.copy()\n",
    "Resultado:\n",
    "    vendas2 = [150, 300, 190, 480]"
   ]
  },
  {
   "cell_type": "markdown",
   "id": "479ae10b",
   "metadata": {},
   "source": [
    "# Exercícios\n",
    "\n",
    "## 1. Faturamento do Melhor e do Pior Mês do Ano\n",
    "\n",
    "Qual foi o valor de vendas do melhor mês do Ano? E valor do pior mês do ano?\n"
   ]
  },
  {
   "cell_type": "code",
   "execution_count": 6,
   "id": "a8013359",
   "metadata": {},
   "outputs": [],
   "source": [
    "meses = ['jan', 'fev', 'mar', 'abr', 'mai', 'jun', 'jul', 'ago', 'set', 'out', 'nov', 'dez']\n",
    "vendas_1sem = [25000, 29000, 22200, 17750, 15870, 19900]\n",
    "vendas_2sem = [19850, 20120, 17540, 15555, 49051, 9650]"
   ]
  },
  {
   "cell_type": "code",
   "execution_count": null,
   "id": "8687890c",
   "metadata": {},
   "outputs": [],
   "source": [
    "venda_ano = vendas_1sem + vendas_2sem\n",
    "\n",
    "maior_venda = max(venda_ano)\n",
    "menor_venda = min(venda_ano)\n",
    "\n",
    "print(maior_venda)\n",
    "print(menor_venda)\n"
   ]
  },
  {
   "cell_type": "markdown",
   "id": "e904f847",
   "metadata": {},
   "source": [
    "## 2. Continuação\n",
    "\n",
    "Agora relacione as duas listas para printar 'O melhor mês do ano foi {} com {} vendas' e o mesmo para o pior mês do ano.\n",
    "\n",
    "Calcule também o faturamento total do Ano e quanto que o melhor mês representou do faturamento total.\n",
    "\n",
    "Obs: Para o faturamento total, pode usar a função sum(lista) que soma todos os itens de uma lista"
   ]
  },
  {
   "cell_type": "code",
   "execution_count": 3,
   "id": "0e4fd8a4",
   "metadata": {},
   "outputs": [
    {
     "name": "stdout",
     "output_type": "stream",
     "text": [
      "O melhor mês do ano foi nov com 49051 vendas\n",
      "\n",
      "O pior mês do ano foi dez com 9650 vendas\n",
      "\n",
      "O faturamento do ano foi de R$261,486 e o mes de nov representou 18.76% do total\n"
     ]
    }
   ],
   "source": [
    "vendas_1sem.extend(vendas_2sem)\n",
    "\n",
    "maior_venda = max(vendas_1sem)\n",
    "menor_venda = min(vendas_1sem)\n",
    "\n",
    "index_melhor_mes = vendas_1sem.index(maior_venda)\n",
    "index_pior_mes = vendas_1sem.index(menor_venda)\n",
    "\n",
    "print('O melhor mês do ano foi {} com {} vendas'.format(meses[index_melhor_mes],maior_venda))\n",
    "\n",
    "print('\\nO pior mês do ano foi {} com {} vendas'.format(meses[index_pior_mes],menor_venda))\n",
    "\n",
    "faturamento = sum(vendas_1sem)\n",
    "percent_faturamento_ano = maior_venda/faturamento\n",
    "\n",
    "print('\\nO faturamento do ano foi de R${:,} e o mes de {} representou {:.2%} do total'.format(faturamento,meses[index_melhor_mes],percent_faturamento_ano))"
   ]
  },
  {
   "cell_type": "markdown",
   "id": "1f7701e2",
   "metadata": {},
   "source": [
    "## 3. Crie uma lista com o top 3 valores de vendas do ano (sem fazer \"no olho\")\n",
    "\n",
    "Dica: o método remove retira um item da lista."
   ]
  },
  {
   "cell_type": "code",
   "execution_count": null,
   "id": "0ecfa9dd",
   "metadata": {},
   "outputs": [],
   "source": [
    "top3 = []\n",
    "venda_ano = [25000, 29000, 22200, 17750,\n",
    "             15870, 19900, 19850, 20120,\n",
    "             17540, 15555, 49051, 9650,\n",
    "            ]\n",
    "#modo basico\n",
    "maior_venda = max(venda_ano)\n",
    "top3.append(maior_venda)\n",
    "venda_ano.remove(maior_venda)\n",
    "\n",
    "maior_venda = max(venda_ano)\n",
    "top3.append(maior_venda)\n",
    "venda_ano.remove(maior_venda)\n",
    "\n",
    "maior_venda = max(venda_ano)\n",
    "top3.append(maior_venda)\n",
    "venda_ano.remove(maior_venda)\n",
    "\n",
    "##usando o while\n",
    "\n",
    "#while len(venda_ano)>9:\n",
    "    #maior_venda = max(venda_ano)\n",
    "    #top3.append(maior_venda)\n",
    "    #venda_ano.remove(maior_venda)\n",
    "\n",
    "print(top3)\n"
   ]
  },
  {
   "cell_type": "markdown",
   "id": "8fb511ff",
   "metadata": {},
   "source": [
    "# Alterações de Variáveis\n",
    "\n",
    "Estrutura:\n",
    "\n",
    "- variavel = variavel + outro_valor\n",
    "\n",
    "ou então\n",
    "\n",
    "- variavel += outro_valor"
   ]
  },
  {
   "cell_type": "markdown",
   "id": "c5b5faed",
   "metadata": {},
   "source": [
    "Exemplo: vamos adicionar às variáveis criadas o Produto IPad, 500 vendas"
   ]
  },
  {
   "cell_type": "code",
   "execution_count": null,
   "id": "7b27060f",
   "metadata": {},
   "outputs": [],
   "source": [
    "faturamento = 3000\n",
    "\n",
    "\n",
    "lista = ['mac', 'iphone']\n",
    "vendas = [100, 200]\n",
    "#adicionando IPad na lista\n",
    "lista +=['Ipad']\n",
    "vendas += [500]\n",
    "\n",
    "\n",
    "\n",
    "soma_vendas = 300\n",
    "#adicionando na soma a quantidade de IPad\n",
    "soma_vendas += 500\n",
    "\n",
    "\n",
    "\n",
    "email = 'Esse mês vendemos um total de {} produtos, sendo:\\n{} unidades de {}\\n{} unidades de {}'.format(soma_vendas, vendas[0], lista[0], vendas[1], lista[1])\n",
    "#adicionando no fim do texto o Ipad\n",
    "email +='\\n{} unidades de Ipad'.format(500)\n",
    "\n",
    "\n",
    "\n",
    "print(email)"
   ]
  },
  {
   "cell_type": "markdown",
   "id": "adde116a",
   "metadata": {},
   "source": [
    "# Copiar e \"Igualdade\" de Listas\n",
    "\n",
    "### Estrutura:\n",
    "\n",
    "- Quando fazemos:<br>\n",
    "lista2 = lista1<br>\n",
    "não estamos criando uma lista nova, mas estamos atribuindo outra variável à mesma lista.\n",
    "\n",
    "- Se quisermos copiar lista devemos fazer<br>\n",
    "lista2 = lista1.copy()<br>\n",
    "ou entao<br>\n",
    "lista2 = lista1[:]\n",
    "\n",
    "Para entender bem isso, vamos ver na prática:"
   ]
  },
  {
   "cell_type": "code",
   "execution_count": null,
   "id": "d1dd36aa",
   "metadata": {},
   "outputs": [],
   "source": [
    "lista = ['ipad', 'iphone x', 'apple tv']\n",
    "lista2 = lista\n",
    "\n",
    "lista[1] = 'iphone 11'\n",
    "\n",
    "print(lista2)"
   ]
  },
  {
   "cell_type": "code",
   "execution_count": null,
   "id": "46056b38",
   "metadata": {},
   "outputs": [],
   "source": [
    "lista = ['ipad', 'iphone x', 'apple tv']\n",
    "lista2 = lista.copy()\n",
    "#ou \n",
    "#lista2 = lista[:]\n",
    "\n",
    "lista[1] = 'iphone 11'\n",
    "\n",
    "print(lista)\n",
    "print(lista2)"
   ]
  },
  {
   "cell_type": "markdown",
   "id": "035bdfc5",
   "metadata": {},
   "source": [
    "# Listas de Listas\n",
    "\n",
    "### Estrutura:\n",
    "\n",
    "Cada item de uma lista pode ser qualquer tipo de variável. Inclusive, uma lista.\n",
    "\n",
    "Quando dentro de uma lista temos cada item como sendo uma outra lista, temos uma \"nested list\", ou seja, uma lista de listas.\n",
    "\n",
    "Todas as regras de lista e tudo que vimos até agora funcionam exatamente igual, mas vamos ver como isso funciona na prática"
   ]
  },
  {
   "cell_type": "code",
   "execution_count": 9,
   "id": "fc21b69b",
   "metadata": {},
   "outputs": [],
   "source": [
    "vendedores = ['Gabriel', 'João', 'Diego', 'Alon']\n",
    "produtos = ['ipad', 'iphone']\n",
    "vendas = [\n",
    "    [100, 200],\n",
    "    [300, 500],\n",
    "    [50, 1000],\n",
    "    [900, 10],\n",
    "]"
   ]
  },
  {
   "cell_type": "markdown",
   "id": "ac0f474c",
   "metadata": {},
   "source": [
    "- Quanto João vendeu de IPad?\n",
    "- Quanto Diego vendeu de IPhone\n",
    "- Qual o total de vendas de IPhone?"
   ]
  },
  {
   "cell_type": "code",
   "execution_count": null,
   "id": "0967acd9",
   "metadata": {},
   "outputs": [],
   "source": [
    "venda_ipad_joao = vendas[1][0]\n",
    "venda_iphone_diego = vendas[2][1]\n",
    "total_venda_iphone = vendas[0][1] + vendas[1][1] + vendas[2][1] + vendas[3][1]\n",
    "\n",
    "print(venda_ipad_joao)\n",
    "print(venda_iphone_diego)\n",
    "print(total_venda_iphone)"
   ]
  },
  {
   "cell_type": "markdown",
   "id": "6159c5e7",
   "metadata": {},
   "source": [
    "E se Gabriel na verdade fez apenas 50 vendas de IPhone, como eu modifico na minha lista o valor de vendas dele?"
   ]
  },
  {
   "cell_type": "code",
   "execution_count": 16,
   "id": "2875e4de",
   "metadata": {},
   "outputs": [
    {
     "name": "stdout",
     "output_type": "stream",
     "text": [
      "[[100, 50], [300, 500], [50, 1000], [900, 10]]\n"
     ]
    }
   ],
   "source": [
    "vendas[0][1] = 50\n",
    "print(vendas)"
   ]
  },
  {
   "cell_type": "markdown",
   "id": "e1c20d84",
   "metadata": {},
   "source": [
    "E se agora eu tenho um novo produto 'mac', como eu adiciono as vendas em cada um dos vendedores?"
   ]
  },
  {
   "cell_type": "code",
   "execution_count": 18,
   "id": "cae9477c",
   "metadata": {},
   "outputs": [
    {
     "name": "stdout",
     "output_type": "stream",
     "text": [
      "[[100, 50, 10], [300, 500, 15], [50, 1000, 6], [900, 10, 70]]\n"
     ]
    }
   ],
   "source": [
    "vendas_mac = [10,15,6,70]\n",
    "\n",
    "contador = 0\n",
    "while contador<4:\n",
    "    vendas[contador].append(vendas_mac[contador])\n",
    "    contador+=1\n",
    "    \n",
    "print(vendas)"
   ]
  },
  {
   "cell_type": "markdown",
   "id": "eb424025",
   "metadata": {},
   "source": [
    "# Exercícios\n",
    "\n",
    "## 1. Mudança de Carga Tributária\n",
    "\n",
    "- Reformas e mudanças de cargas tributárias são bem comuns no Brasil.\n",
    "\n",
    "Digamos que você trabalhe em uma empresa de ecommerce\n",
    "\n",
    "No Brasil, o imposto sobre livros é zerado. De um ano para o outro, o governo criou um novo imposto que incide em 10% sobre o valor dos livros e agora você precisa alterar o registro dos preços dos livros da empresa para garantir que esse imposto vai ser repassado para o preço final do produto.\n",
    "\n",
    "Crie um código que recalcule o valor do livro da sua lista de produtos e ajuste na tabela.\n",
    "\n",
    "Além disso, calcule qual vai ser o impacto financeiro da criação desse imposto para a empresa (ou seja, quanto que o imposto vai aumentar de custo para a empresa)\n",
    "\n",
    "Obs: para facilitar, colocamos apenas 1 livro na lista, mas em breve vamos aprender um for que vai adaptar esse cenário para qualquer quantidade de livros na sua lista.\n",
    "\n",
    "Obs2: Seu código deve funcionar mesmo que não haja livros na lista de produtos da empresa"
   ]
  },
  {
   "cell_type": "code",
   "execution_count": 2,
   "id": "bbb4e8d0",
   "metadata": {},
   "outputs": [],
   "source": [
    "produtos = ['computador', 'livro', 'tablet', 'celular', 'tv', 'ar condicionado', 'alexa', 'máquina de café', 'kindle']\n",
    "\n",
    "#cada item da lista dos produtos corresponde a quantidade de vendas no mês e preço, nessa ordem\n",
    "produtos_ecommerce = [\n",
    "    [10000, 2500],\n",
    "    [50000, 40],\n",
    "    [7000, 1200],\n",
    "    [20000, 1500],\n",
    "    [5800, 1300],\n",
    "    [7200, 2500],\n",
    "    [200, 800],\n",
    "    [3300, 700],\n",
    "    [1900, 400]\n",
    "]"
   ]
  },
  {
   "cell_type": "code",
   "execution_count": 8,
   "id": "f290fb23",
   "metadata": {},
   "outputs": [
    {
     "name": "stdout",
     "output_type": "stream",
     "text": [
      "O custo antes do reajuste era de R$94,170,000.00;\n",
      "    Hoje a empresa deve pagar R$94,370,000.00 para diquirir todos os seus produtos\n",
      "e esse total representa um aumento de R$200,000.00 ou de 0.21% do preço antigo.\n",
      "\n"
     ]
    }
   ],
   "source": [
    "#calcular os custos\n",
    "cont = 0\n",
    "custo = 0\n",
    "while cont<len(produtos_ecommerce):\n",
    "    custo += produtos_ecommerce[cont][1]*produtos_ecommerce[cont][0]\n",
    "    cont+=1  \n",
    "    \n",
    "if 'livro' in produtos:       \n",
    "    custo_novo = custo + (produtos_ecommerce[1][1]*0.10)*produtos_ecommerce[1][0]\n",
    "    percent_custo_novo = (custo_novo/custo)-1\n",
    "    print('''O custo antes do reajuste era de R${:,.2f};\n",
    "    Hoje a empresa deve pagar R${:,.2f} para diquirir todos os seus produtos\n",
    "e esse total representa um aumento de R${:,.2f} ou de {:.2%} do preço antigo.\n",
    "'''.format(custo,custo_novo,custo_novo-custo,percent_custo_novo))\n",
    "\n",
    "else:\n",
    "    print('O custo da empresa é de R${:.2f}'.format(custo))"
   ]
  },
  {
   "cell_type": "code",
   "execution_count": null,
   "id": "808c6606",
   "metadata": {},
   "outputs": [],
   "source": [
    "#mudar o valor na tabela \n",
    "nova_tabela_de_precos = produtos_ecommerce.copy()\n",
    "nova_tabela_de_precos[1][1]*=1.1"
   ]
  }
 ],
 "metadata": {
  "kernelspec": {
   "display_name": "Python 3 (ipykernel)",
   "language": "python",
   "name": "python3"
  },
  "language_info": {
   "codemirror_mode": {
    "name": "ipython",
    "version": 3
   },
   "file_extension": ".py",
   "mimetype": "text/x-python",
   "name": "python",
   "nbconvert_exporter": "python",
   "pygments_lexer": "ipython3",
   "version": "3.9.7"
  }
 },
 "nbformat": 4,
 "nbformat_minor": 5
}
