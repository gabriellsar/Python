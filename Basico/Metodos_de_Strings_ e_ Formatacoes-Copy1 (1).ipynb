{
 "cells": [
  {
   "cell_type": "markdown",
   "id": "d5f4a91b",
   "metadata": {},
   "source": [
    "# Metodos de Strings - Consulta"
   ]
  },
  {
   "cell_type": "code",
   "execution_count": null,
   "id": "4339938d",
   "metadata": {},
   "outputs": [],
   "source": [
    "texto = 'gabriel'\n",
    "texto1 = 'GABRIEL'\n",
    "textoEsp = 'gabrielsrosas@gmail.com'\n",
    "\n",
    "print(texto.capitalize())\n",
    "print(texto.upper()) \n",
    "print(texto1.casefold())\n",
    "print(texto.count('a'))\n",
    "print(textoEsp.endswith('gmail.com'))\n",
    "print(textoEsp.find('@'))\n",
    "\n",
    "#.format\n",
    "      \n",
    "fatu = input('faturamento')\n",
    "custo = input('custo')\n",
    "\n",
    "if fatu and custo:\n",
    "    lucro = int(fatu)-int(custo)\n",
    "    print('o lucro da loja foi {}'.format(lucro))\n",
    "else: \n",
    "    print('preencha corretamento')\n",
    "\n",
    "#.isalnum,isalpha,isnumeric\n",
    "\n",
    "textoalisalnum ='gabriel1234'\n",
    "textoisalpha = 'gabri'\n",
    "textoisnumeric = '12345'\n",
    "\n",
    "print(textoalisalnum.isalnum())\n",
    "print(textoisalpha.isalpha())    \n",
    "print(textoisnumeric.isnumeric())\n",
    "      \n",
    "print(texto.replace('a','A'))\n",
    "print(textoEsp.split(\"@\"))\n",
    "\n",
    "textolongo = ''' Ola meu nome é gabriel\n",
    "venho por meio desse texto fazer porra nehuma \n",
    "teste teste testes\n",
    "''' \n",
    "print(textolongo.splitlines())\n"
   ]
  },
  {
   "cell_type": "markdown",
   "id": "adde8961",
   "metadata": {},
   "source": [
    "# Exercicio de Metodos de Strings:"
   ]
  },
  {
   "cell_type": "code",
   "execution_count": null,
   "id": "4383f9d7",
   "metadata": {},
   "outputs": [],
   "source": [
    "#1\n",
    "CPF = input('Digite seu CPF(digite apenas numeros) --> ')\n",
    "\n",
    "if CPF.isnumeric and len(CPF)==11:\n",
    "    print(CPF)\n",
    "else:\n",
    "    print('Digite seu CPF corretamente e digite apenas numeros')"
   ]
  },
  {
   "cell_type": "code",
   "execution_count": null,
   "id": "6f02b2b5",
   "metadata": {},
   "outputs": [],
   "source": [
    "#2\n",
    "CPF = input('Digite seu CPF --> ')\n",
    "\n",
    "CPF = CPF.strip()\n",
    "CPF = CPF.replace('.','')\n",
    "CPF = CPF.replace('-','')\n",
    "\n",
    "if CPF.isnumeric and len(CPF)==11:\n",
    "    print(CPF)\n",
    "else:\n",
    "    print('Digite seu CPF corretamente')"
   ]
  },
  {
   "cell_type": "code",
   "execution_count": null,
   "id": "8cd88a0e",
   "metadata": {},
   "outputs": [],
   "source": [
    "#3\n",
    "\n",
    "nome = input('Insira um nome valido')\n",
    "e_mail = input('Insira um e-mail valido')\n",
    "\n",
    "if nome and e_mail:\n",
    "    if e_mail.find('@') != -1 and '.' in e_mail[e_mail.find('@'):]:\n",
    "            print('Preenchido corretamente')\n",
    "    else:\n",
    "        print('Preencha o e-mail corretamente')\n",
    "else:\n",
    "    print('Preencha o e-mail corretamente')\n",
    "\n",
    "        \n",
    "\n"
   ]
  },
  {
   "cell_type": "markdown",
   "id": "2b2dc0b4",
   "metadata": {},
   "source": [
    "# Format - Consulta"
   ]
  },
  {
   "cell_type": "raw",
   "id": "cab9a127",
   "metadata": {},
   "source": [
    ":<\t\tAlinha o texto à esquerda (se tiver espaço na tela para isso)\n",
    ":>\t\tAlinha o texto à direita (se tiver espaço na tela para isso)\n",
    ":^\t\tAlinha o texto ao centro (se tiver espaço na tela para isso)\n",
    ":+\t\tColoca o sinal sempre na frente do número (independente se é positivo ou negativo)\n",
    ":,\t\tColoca a vírgula como separador de milhar\n",
    ":_\t\tColoca o _ como separador de milhar\n",
    ":e\t\tFormato Científico\n",
    ":.nf\tNúmero com quantidade fixa de casas decimais\n",
    ":x\t\tFormato HEX minúscula (para cores)\n",
    ":X\t\tFormato HEX maiúscula (para cores)\n",
    ":%\t\tFormato Percentual"
   ]
  },
  {
   "cell_type": "code",
   "execution_count": null,
   "id": "2c0ef71c",
   "metadata": {},
   "outputs": [],
   "source": [
    "texto = 'gabriel'\n",
    "\n",
    "print('meu nome é {:<5}'.format(texto))\n",
    "print('meu nome é {:>5}'.format(texto))\n",
    "print('meu nome é {:^5}'.format(texto))\n"
   ]
  },
  {
   "cell_type": "code",
   "execution_count": null,
   "id": "b06f85d6",
   "metadata": {},
   "outputs": [],
   "source": [
    "num = 1000.59\n",
    "\n",
    "print('o valor é de {:,}'.format(num))\n",
    "print('o valor é de {:_}'.format(num))\n",
    "print('o valor é de {:e}'.format(num))\n",
    "print('o valor é de {:.1f}'.format(num))\n"
   ]
  },
  {
   "cell_type": "code",
   "execution_count": 8,
   "id": "1486d74a",
   "metadata": {},
   "outputs": [
    {
     "name": "stdout",
     "output_type": "stream",
     "text": [
      "o faturamneto foi de +1000 e o lucro de +800 \n",
      "o margem de lucro foi de 80.00% \n"
     ]
    }
   ],
   "source": [
    "faturamento = 1000\n",
    "custo = 200\n",
    "\n",
    "lucro = faturamento-custo\n",
    "margem = lucro/faturamento \n",
    "\n",
    "print('o faturamneto foi de {:+} e o lucro de {:+} '.format(faturamento,lucro))\n",
    "print('o margem de lucro foi de {:.2%} '.format(margem))\n"
   ]
  },
  {
   "cell_type": "code",
   "execution_count": null,
   "id": "0eace1b8",
   "metadata": {},
   "outputs": [],
   "source": []
  }
 ],
 "metadata": {
  "kernelspec": {
   "display_name": "Python 3 (ipykernel)",
   "language": "python",
   "name": "python3"
  },
  "language_info": {
   "codemirror_mode": {
    "name": "ipython",
    "version": 3
   },
   "file_extension": ".py",
   "mimetype": "text/x-python",
   "name": "python",
   "nbconvert_exporter": "python",
   "pygments_lexer": "ipython3",
   "version": "3.9.7"
  }
 },
 "nbformat": 4,
 "nbformat_minor": 5
}
