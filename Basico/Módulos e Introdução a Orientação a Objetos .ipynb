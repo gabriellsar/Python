{
 "cells": [
  {
   "cell_type": "markdown",
   "id": "fb76a0ae",
   "metadata": {},
   "source": [
    "# Introdução a Orientação a Objeto\n",
    "\n",
    "### Regras Gerais:\n",
    "\n",
    "- Tudo no Python é um objeto.\n",
    "    - String é objeto\n",
    "    - Lista é objeto\n",
    "    - Dicionários são objetos\n",
    "    ...\n",
    "\n",
    "### Comparação Clássica\n",
    "\n",
    "- Pense no Controle Remoto de uma Televisão.\n",
    "    - O Controle é um objeto\n",
    "    - Cada botão dele é um comando, um método.\n",
    "    - Cada método faz 1 ação específica\n",
    "        - Por trás de cada método (dentro do controle) podem acontecer milhares de coisas quando você aperta 1 botão, mas no fundo você tá cagando pra isso, só quer que o botão faça o que você mandou quando você clicar no botão."
   ]
  },
  {
   "cell_type": "markdown",
   "id": "b24343e8",
   "metadata": {},
   "source": [
    "### Em termos práticos no Python\n",
    "\n",
    "- Isso significa que todos eles tem métodos específicos, ou seja, já existe programado no Python várias coisas que você consegue fazer com ele.\n",
    "    - Exemplo: Strings\n",
    "        - Quando no Python criaram a string, eles programaram lá em algum lugar que texto[i] vai te dar o caracter na posição i do texto\n",
    "        - Também criaram o método texto.upper() que torna toda a string em letra maiúscula\n",
    "        - Também criaram o método texto.casefold() que coloca tudo em letra minúscula\n",
    "        - E assim vai para tudo que temos no Python\n",
    "\n",
    "- Em termos práticos, você já deve ter reparado que fazemos muito coisas do tipo variavel.método()\n",
    "    - 'Produto {}: {} unidades vendidas'.format(produto, quantidade)\n",
    "    - lista.append('ABC12304')\n",
    "    - texto.count()\n",
    "    - ..."
   ]
  },
  {
   "cell_type": "markdown",
   "id": "755e79c6",
   "metadata": {},
   "source": [
    "### E para onde vamos com isso agora? Qual a grande vantagem?\n",
    "\n",
    "- A vantagem é que agora vamos aprender a importar módulos novos\n",
    "- Então tem MUITAS, mas MUITAS coisas que já estão prontas no Python que a gente não precisa programar do zero. A gente vai simplesmente importar e usar.\n",
    "- E repare, quando a gente importar, o que na prática estaremos fazendo é importar 1 ou mais objetos que tem vários métodos já prontos para usarmos."
   ]
  },
  {
   "cell_type": "markdown",
   "id": "31257276",
   "metadata": {},
   "source": [
    "# O que são Módulos e qual a importância deles?\n",
    "\n",
    "### Importância\n",
    "\n",
    "- Já tem muita coisa pronta, então você não precisa criar do zero.\n",
    "- Se você souber usar Módulos e como usar um módulo novo, você vai conseguir fazer praticamente tudo no Python\n",
    "\n",
    "### Estrutura Básica"
   ]
  },
  {
   "cell_type": "raw",
   "id": "8aa58979",
   "metadata": {},
   "source": [
    "import módulo\n",
    "\n",
    "ou\n",
    "\n",
    "import módulo as nome"
   ]
  },
  {
   "cell_type": "markdown",
   "id": "c72070be",
   "metadata": {},
   "source": [
    "- Exemplo: Como pode fazer o nosso código abrir um site específico na internet?"
   ]
  },
  {
   "cell_type": "code",
   "execution_count": null,
   "id": "a689905d",
   "metadata": {},
   "outputs": [],
   "source": [
    "import webbrowser as web\n",
    "\n",
    "web.open('https://www.youtube.com/')"
   ]
  },
  {
   "cell_type": "markdown",
   "id": "349c79dd",
   "metadata": {},
   "source": [
    "### Variações"
   ]
  },
  {
   "cell_type": "raw",
   "id": "efef92db",
   "metadata": {},
   "source": [
    "#importar o módulo sem precisar usar o nome dele\n",
    "from modulo import *\n",
    "\n",
    "#importar apenas algumas partes do módulo\n",
    "from modulo import funcao1, funcao2, etc."
   ]
  },
  {
   "cell_type": "markdown",
   "id": "35092626",
   "metadata": {},
   "source": [
    "# Módulo time\n",
    "\n",
    "### Estrutura:\n",
    "\n",
    "- Um dos módulos mais usados no Python. Tudo que diz respeito a data, a marcar quanto tempo leva alguma ação, ou a tempo mesmo, o módulo time vai ajudar a gente"
   ]
  },
  {
   "cell_type": "code",
   "execution_count": null,
   "id": "5e65c3a0",
   "metadata": {},
   "outputs": [],
   "source": [
    "import time"
   ]
  },
  {
   "cell_type": "markdown",
   "id": "c8aedfb8",
   "metadata": {},
   "source": [
    "- Marco Zero (chamado de EPOCH) = 1 de Janeiro de 1970 às 00:00:00\n",
    "- time() retorna quantos segundos se passaram desde a EPOCH"
   ]
  },
  {
   "cell_type": "code",
   "execution_count": null,
   "id": "0b87f6af",
   "metadata": {},
   "outputs": [],
   "source": [
    "segundos_hoje = time.time()\n",
    "print(segundos_hoje)"
   ]
  },
  {
   "cell_type": "markdown",
   "id": "ddcf280d",
   "metadata": {},
   "source": [
    "- ctime retorna a data em string o texto no formato UTC (um formato padrão de datas)"
   ]
  },
  {
   "cell_type": "code",
   "execution_count": null,
   "id": "b26e7eed",
   "metadata": {},
   "outputs": [],
   "source": [
    "data_hoje = time.ctime()\n",
    "#ou entao data_hoje = time.ctime(time())\n",
    "print(data_hoje)"
   ]
  },
  {
   "cell_type": "markdown",
   "id": "fb7be908",
   "metadata": {},
   "source": [
    "- Isso já pode ser muito útil para medir o tempo que uma ação leva, caso seja do interesse:"
   ]
  },
  {
   "cell_type": "code",
   "execution_count": null,
   "id": "6362a8ab",
   "metadata": {},
   "outputs": [],
   "source": [
    "tempo_inicial = time.time()\n",
    "for i in range(100000000):\n",
    "    pass\n",
    "tempo_final = time.time()\n",
    "duracao = tempo_final - tempo_inicial\n",
    "print('O programa levou {} segundos para rodar'.format(duracao))"
   ]
  },
  {
   "cell_type": "markdown",
   "id": "8c20d5ab",
   "metadata": {},
   "source": [
    "- Fazer o código esperar alguns segundos (muito útil quando temos que esperar um programa ou uma página carregar)"
   ]
  },
  {
   "cell_type": "code",
   "execution_count": null,
   "id": "23bd2e86",
   "metadata": {},
   "outputs": [],
   "source": [
    "#para esperar 5 segundos fazemos:\n",
    "print('Começando')\n",
    "time.sleep(5)\n",
    "print('Rodou 5 segundos após')"
   ]
  },
  {
   "cell_type": "markdown",
   "id": "1503de0e",
   "metadata": {},
   "source": [
    "- Pegar informações de dias, hora, segundo, minuto, tudo detalhado:\n",
    "- gmtime()\n",
    "- gmtime().parâmetro"
   ]
  },
  {
   "cell_type": "code",
   "execution_count": null,
   "id": "730ab582",
   "metadata": {},
   "outputs": [],
   "source": [
    "data_atual = time.gmtime()\n",
    "print(data_atual)"
   ]
  },
  {
   "cell_type": "markdown",
   "id": "c73ae164",
   "metadata": {},
   "source": [
    "- É um objeto diferente, mas podemos pegar os parâmetros de ano, mês, dia, etc fazendo:"
   ]
  },
  {
   "cell_type": "code",
   "execution_count": null,
   "id": "a0109615",
   "metadata": {},
   "outputs": [],
   "source": [
    "ano = data_atual.tm_year\n",
    "mes = data_atual.tm_mon\n",
    "dia = data_atual.tm_mday\n",
    "hora = data_atual.tm_hour\n",
    "dia_da_semana = data_atual.tm_wday\n",
    "\n",
    "print('Hoje é dia {}/{}/{}'.format(dia, mes, ano))"
   ]
  },
  {
   "cell_type": "markdown",
   "id": "059f5839",
   "metadata": {},
   "source": [
    "# Exibindo Gráficos no Python\n",
    "\n",
    "### Importância\n",
    "\n",
    "- Para exploração e visualização de dados, nada melhor do que usar gráficos para isso. Apesar do Python ser programação, gráficos facilitam d+ em qualquer projeto que trabalhe com dados.\n",
    "\n",
    "### Estrutura\n",
    "\n",
    "- Usaremos o módulo Matplotlib.pyplot, que é o módulo mais usado no Python. Existem outros, como o Seaborn e o Plotly, caso queira ver/usar"
   ]
  },
  {
   "cell_type": "code",
   "execution_count": null,
   "id": "b7e8c6db",
   "metadata": {},
   "outputs": [],
   "source": [
    "import matplotlib.pyplot as plt\n",
    "\n",
    "vendas_meses = [1500, 1727, 1350, 999, 1050, 1027, 1022, 1500, 2000, 2362, 2100, 2762]\n",
    "meses = ['jan', 'fev', 'mar', 'abr', 'mai', 'jun', 'jul', 'ago', 'set', 'out', 'nov', 'dez']\n",
    "\n",
    "plt.plot(meses,vendas_meses)\n",
    "plt.axis([0,12,0,max(vendas_meses)])\n",
    "plt.ylabel('Vendas')\n",
    "plt.xlabel('Meses')\n",
    "plt.show()"
   ]
  },
  {
   "cell_type": "markdown",
   "id": "524483f6",
   "metadata": {},
   "source": [
    "# Mais edições de Gráfico com MatplotLib"
   ]
  },
  {
   "cell_type": "code",
   "execution_count": null,
   "id": "b708ced7",
   "metadata": {},
   "outputs": [],
   "source": [
    "import matplotlib.pyplot as plt\n",
    "import numpy as np"
   ]
  },
  {
   "cell_type": "markdown",
   "id": "c70cb5b8",
   "metadata": {},
   "source": [
    "### Outros tipos de Gráfico:"
   ]
  },
  {
   "cell_type": "code",
   "execution_count": null,
   "id": "7f669c44",
   "metadata": {},
   "outputs": [],
   "source": [
    "vendas = np.random.randint(1000, 3000, 50)\n",
    "meses = np.arange(1, 51)"
   ]
  },
  {
   "cell_type": "markdown",
   "id": "d060c53b",
   "metadata": {},
   "source": [
    "- Linha"
   ]
  },
  {
   "cell_type": "code",
   "execution_count": null,
   "id": "70cd26e0",
   "metadata": {},
   "outputs": [],
   "source": [
    "plt.plot(meses,vendas)\n",
    "plt.axis([0,50,0,max(vendas)+100])\n",
    "plt.ylabel('Vendas')\n",
    "plt.xlabel('Meses')\n",
    "plt.show()"
   ]
  },
  {
   "cell_type": "markdown",
   "id": "ee89d774",
   "metadata": {},
   "source": [
    "- Editando o Gráfico de Linha"
   ]
  },
  {
   "cell_type": "code",
   "execution_count": null,
   "id": "f9a6b170",
   "metadata": {},
   "outputs": [],
   "source": [
    "plt.plot(meses,vendas,'r--')\n",
    "plt.axis([0,50,0,max(vendas)+100])\n",
    "plt.ylabel('Vendas')\n",
    "plt.xlabel('Meses')\n",
    "plt.show()"
   ]
  },
  {
   "cell_type": "markdown",
   "id": "b146cc55",
   "metadata": {},
   "source": [
    "- Dispersão"
   ]
  },
  {
   "cell_type": "code",
   "execution_count": null,
   "id": "e417e593",
   "metadata": {},
   "outputs": [],
   "source": [
    "plt.scatter(meses,vendas)\n",
    "plt.axis([0,50,0,max(vendas)+100])\n",
    "plt.ylabel('Vendas')\n",
    "plt.xlabel('Meses')\n",
    "plt.show()"
   ]
  },
  {
   "cell_type": "markdown",
   "id": "9e795f6d",
   "metadata": {},
   "source": [
    "- Barras"
   ]
  },
  {
   "cell_type": "code",
   "execution_count": null,
   "id": "98ffc3e7",
   "metadata": {},
   "outputs": [],
   "source": [
    "plt.bar(meses,vendas)\n",
    "plt.axis([0,51,0,max(vendas)+100])\n",
    "plt.ylabel('Vendas')\n",
    "plt.xlabel('Meses')\n",
    "plt.show()"
   ]
  },
  {
   "cell_type": "markdown",
   "id": "262368dd",
   "metadata": {},
   "source": [
    "- Trabalhando com Múltiplos Gráficos no mesmo \"Plot\" -> Para melhor visualização/comparação"
   ]
  },
  {
   "cell_type": "code",
   "execution_count": null,
   "id": "7da1f301",
   "metadata": {},
   "outputs": [],
   "source": [
    "plt.figure(figsize=(17,10))\n",
    "plt.subplot(1,3,1)\n",
    "plt.plot(meses,vendas,'r--')\n",
    "plt.axis([0,50,0,max(vendas)+100])\n",
    "plt.ylabel('Vendas')\n",
    "plt.xlabel('Meses')\n",
    "\n",
    "plt.subplot(1,3,2)\n",
    "plt.scatter(meses,vendas)\n",
    "plt.axis([0,50,0,max(vendas)+100])\n",
    "plt.ylabel('Vendas')\n",
    "plt.xlabel('Meses')\n",
    "\n",
    "plt.subplot(1,3,3)\n",
    "plt.bar(meses,vendas)\n",
    "plt.axis([0,51,0,max(vendas)+100])\n",
    "plt.ylabel('Vendas')\n",
    "plt.xlabel('Meses')\n",
    "\n",
    "plt.show()\n"
   ]
  }
 ],
 "metadata": {
  "kernelspec": {
   "display_name": "Python 3 (ipykernel)",
   "language": "python",
   "name": "python3"
  },
  "language_info": {
   "codemirror_mode": {
    "name": "ipython",
    "version": 3
   },
   "file_extension": ".py",
   "mimetype": "text/x-python",
   "name": "python",
   "nbconvert_exporter": "python",
   "pygments_lexer": "ipython3",
   "version": "3.9.7"
  }
 },
 "nbformat": 4,
 "nbformat_minor": 5
}
