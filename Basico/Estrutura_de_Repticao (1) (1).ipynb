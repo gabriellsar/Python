{
 "cells": [
  {
   "cell_type": "markdown",
   "id": "0c93dbe4",
   "metadata": {},
   "source": [
    "# Estrutura de Repticao - For e While\n",
    "\n",
    "##  - For \n",
    "### Funcionamento:"
   ]
  },
  {
   "cell_type": "raw",
   "id": "69fd330a",
   "metadata": {},
   "source": [
    "for i in range(n):\n",
    "    repetir codigo n vezes"
   ]
  },
  {
   "cell_type": "markdown",
   "id": "4d5fa672",
   "metadata": {},
   "source": [
    "- Usando para listas:<br>"
   ]
  },
  {
   "cell_type": "raw",
   "id": "0fdcd669",
   "metadata": {},
   "source": [
    "for item in lista:\n",
    "    print(item)\n",
    "\n",
    "ou para strings\n",
    "\n",
    "for ch in texto:\n",
    "    print(ch)"
   ]
  },
  {
   "cell_type": "code",
   "execution_count": null,
   "id": "0d676b1c",
   "metadata": {},
   "outputs": [],
   "source": [
    "produtos = ['coca','pepsi','guarana','sprite','fanta']\n",
    "producao = [15000,12000,13000,5000,250]\n",
    "texto = 'gabrielsrosas@gmail.com'"
   ]
  },
  {
   "cell_type": "code",
   "execution_count": null,
   "id": "eb3a860c",
   "metadata": {},
   "outputs": [],
   "source": [
    "for i in range(len(produtos)):\n",
    "    print('{} unidade produzidas de {}'.format(producao[i],produtos[i]))\n",
    "    \n",
    "for produto in produtos:\n",
    "    print('O produto é {}'.format(produto))\n",
    "\n",
    "for ch in texto:\n",
    "    print('O caractere escolhido é {}'.format(ch))\n",
    "    "
   ]
  },
  {
   "cell_type": "markdown",
   "id": "8327a008",
   "metadata": {},
   "source": [
    "# For + If\n",
    "\n",
    "## Estrutura:\n"
   ]
  },
  {
   "cell_type": "markdown",
   "id": "0f7afad9",
   "metadata": {},
   "source": [
    "Digamos que a gente esteja analisando a meta de vendas de vários funcionários de uma empresa. A meta de vendas é de 1000 reais em 1 dia.\n",
    "\n",
    "Temos uma lista com as vendas de todos os funcionários e quero calcular qual o % de pessoas que bateram a meta."
   ]
  },
  {
   "cell_type": "code",
   "execution_count": null,
   "id": "01954faa",
   "metadata": {},
   "outputs": [],
   "source": [
    "vendas = [1200, 300, 800, 1500, 1900, 2750, 400, 20, 23, 70, 90, 80, 1100, 999, 900, 880, 870, 50, 1111, 120, 300, 450, 800]\n",
    "meta = 1000\n",
    "cont=0\n",
    "\n",
    "for venda in vendas:\n",
    "    if venda >= meta:\n",
    "        cont+=1\n",
    "percent_meta = cont/len(vendas)\n",
    "\n",
    "print('O percentual de pessoas que bateram a meta foi de {:.2%}'.format(percent_meta))\n",
    "        \n",
    "        "
   ]
  },
  {
   "cell_type": "markdown",
   "id": "3e92cb77",
   "metadata": {},
   "source": [
    "# Enumerate\n",
    "\n",
    "### Estrutura:\n",
    "\n",
    "O enumerate permite que você percorra uma lista e ao mesmo tempo tenha em uma variável o índice daquele item."
   ]
  },
  {
   "cell_type": "raw",
   "id": "97b34ba6",
   "metadata": {},
   "source": [
    "for item in lista:\n",
    "    resto do código"
   ]
  },
  {
   "cell_type": "code",
   "execution_count": null,
   "id": "2543d7ed",
   "metadata": {},
   "outputs": [],
   "source": [
    "funcionarios = ['Maria', 'José', 'Antônio', 'João', 'Francisco', 'Ana', 'Luiz', 'Paulo', 'Carlos', 'Manoel', 'Pedro', 'Francisca', 'Marcos', 'Raimundo', 'Sebastião', 'Antônia', 'Marcelo', 'Jorge', 'Márcia', 'Geraldo', 'Adriana', 'Sandra', 'Luis']\n",
    "for funcionario in funcionarios:\n",
    "    print(funcionario)"
   ]
  },
  {
   "cell_type": "raw",
   "id": "ea243a4f",
   "metadata": {},
   "source": [
    "for i, item in enumerate(lista):\n",
    "    resto do código"
   ]
  },
  {
   "cell_type": "code",
   "execution_count": null,
   "id": "aad26de3",
   "metadata": {},
   "outputs": [],
   "source": [
    "funcionarios = ['Maria', 'José', 'Antônio', 'João', 'Francisco', 'Ana', 'Luiz', 'Paulo', 'Carlos', 'Manoel', 'Pedro', 'Francisca', 'Marcos', 'Raimundo', 'Sebastião', 'Antônia', 'Marcelo', 'Jorge', 'Márcia', 'Geraldo', 'Adriana', 'Sandra', 'Luis']\n",
    "\n",
    "for i, funcionario in enumerate(funcionarios):\n",
    "    print('{} é o funcionário {}'.format(i, funcionario))"
   ]
  },
  {
   "cell_type": "markdown",
   "id": "c38cda62",
   "metadata": {},
   "source": [
    "**Obs: Caso o indice dos itens de uma lista nao venha a ser usado no codigo é recomendado nao usar o enumurate.\n",
    "Porque torna o codigo mais pesado, ja que, ele guarda uma informacao adicional.**"
   ]
  },
  {
   "cell_type": "markdown",
   "id": "cd281380",
   "metadata": {},
   "source": [
    "### Exemplo Prático\n",
    "\n",
    "Vamos pegar um exemplo de nível mínimo de estoque. Em uma fábrica você tem vários produtos e não pode deixar que os produtos fiquem em falta. Para isso, foi definido uma quantidade mínima de estoque que os produtos precisam ter:\n",
    "\n",
    "Identifique quais produtos estão abaixo do nível mínimo de estoque."
   ]
  },
  {
   "cell_type": "code",
   "execution_count": null,
   "id": "002cb69c",
   "metadata": {},
   "outputs": [],
   "source": [
    "estoque = [1200, 300, 800, 1500, 1900, 2750, 400, 20, 23, 70, 90, 80, 1100, 999, 900, 880, 870, 50, 1111, 120, 300, 450, 800]\n",
    "produtos = ['coca', 'pepsi', 'guarana', 'skol', 'brahma', 'agua', 'del valle', 'dolly', 'red bull', 'cachaça', 'vinho tinto', 'vodka', 'vinho branco', 'tequila', 'champagne', 'gin', 'guaracamp', 'matte', 'leite de castanha', 'leite', 'jurupinga', 'sprite', 'fanta']\n",
    "nivel_minimo = 50\n",
    "\n",
    "for i, qtd in enumerate(estoque):\n",
    "    if qtd < nivel_minimo:\n",
    "        print('---> É necessário comprar repor o estoque de {}'.format(produtos[i]))\n",
    "        "
   ]
  },
  {
   "cell_type": "markdown",
   "id": "d472828a",
   "metadata": {},
   "source": [
    "# Exercícios\n",
    "\n",
    "## 1. Criando um Registro de Hóspedes\n",
    "\n",
    "Digamos que você está criando o sistema para registrar a chegada de hóspedes em um hotel. No hotel, os hóspedes podem ter quartos com 1, 2, 3 e 4 pessoas. Seu sistema deve conseguir:\n",
    "\n",
    "1. Identificar quantas pessoas o hóspede que acabou de chegar vai ter no quarto (perguntando por meio de input)\n",
    "2. De acordo com a quantidade de pessoas do hóspede, ele deve fazer um for para perguntar o cpf e o nome de cada pessoa, a fim de registrá-la no quarto (2 inputs para cada pessoa, 1 para o cpf e outro para o nome)\n",
    "3. O seu programa então deve gerar uma lista com todas as pessoas que ficarão no quarto em que cada item dessa lista é o nome da pessoa e o cpf da pessoa, assim:"
   ]
  },
  {
   "cell_type": "raw",
   "id": "f06e1efb",
   "metadata": {},
   "source": [
    "quarto = [\n",
    "    ['João', 'cpf:00000000000'],\n",
    "    ['Julia', 'cpf:11111111111'],\n",
    "    ['Marcus', 'cpf:22222222222'],\n",
    "    ['Maria', 'cpf:33333333333'],\n",
    "]"
   ]
  },
  {
   "cell_type": "markdown",
   "id": "223154a3",
   "metadata": {},
   "source": [
    "- Para simplificar, não vamos nos preocupar com possibilidades de \"tentar colocar mais de 1 hóspede, digitar o cpf errado, etc. Nosso objetivo é treinar a criação de uma rotina de cadastro"
   ]
  },
  {
   "cell_type": "code",
   "execution_count": null,
   "id": "bc70e295",
   "metadata": {},
   "outputs": [],
   "source": [
    "qtd_pessoas = int(input('Quantas pessoas tem no quarto?'))\n",
    "quarto=[]\n",
    "\n",
    "for pessoas in range(qtd_pessoas):\n",
    "    nome = input('Nome?')\n",
    "    CPF = input('CPF?')\n",
    "    inf_pessoa=[nome,'cpf:{}'.format(CPF)]\n",
    "    quarto.append(inf_pessoa)\n",
    "    \n",
    "print(quarto)\n",
    "    "
   ]
  },
  {
   "cell_type": "markdown",
   "id": "66bc2bdb",
   "metadata": {},
   "source": [
    "## 2. Análise de Vendas\n",
    "\n",
    "Nesse exercício vamos fazer uma \"análise simples\" de atingimento de Meta.\n",
    "\n",
    "Temos uma lista com os vendedores e os valores de vendas e queremos identificar (printar) quais os vendedores que bateram a meta e qual foi o valor que eles venderam."
   ]
  },
  {
   "cell_type": "code",
   "execution_count": null,
   "id": "9260d3c8",
   "metadata": {},
   "outputs": [],
   "source": [
    "meta = 10000\n",
    "vendas = [\n",
    "    ['João', 15000],\n",
    "    ['Julia', 27000],\n",
    "    ['Marcus', 9900],\n",
    "    ['Maria', 3750],\n",
    "    ['Ana', 10300],\n",
    "    ['Alon', 7870],\n",
    "]"
   ]
  },
  {
   "cell_type": "code",
   "execution_count": null,
   "id": "af171688",
   "metadata": {},
   "outputs": [],
   "source": [
    "for venda in vendas:\n",
    "    if venda[1] >= meta:\n",
    "        print(\"O vendendor {} bateu e ele(a) vendeu R${}\".format(venda[0],venda[1]))"
   ]
  },
  {
   "cell_type": "markdown",
   "id": "2dcfaef0",
   "metadata": {},
   "source": [
    "## 3. Comparação com Ano Anterior\n",
    "\n",
    "Digamos que você está analisando as vendas de produtos de um ecommerce e quer identificar quais produtos tiveram no ano de 2020 mais vendas do que no ano de 2019, para reportar isso para a diretoria.\n",
    "\n",
    "Sua resposta pode ser um print de cada produto, qual foi a venda de 2019, a venda de 2020 e o % de crescimento de 2020 para 2019.\n",
    "\n",
    "Lembrando, para calcular o % de crescimento de um produto de um ano para o outro, podemos fazer: (vendas_produto2020/vendas_produto2019 - 1)\n",
    "\n",
    "Dica: lembre do enumerate, ele pode facilitar seu \"for\""
   ]
  },
  {
   "cell_type": "code",
   "execution_count": null,
   "id": "8b1c086a",
   "metadata": {},
   "outputs": [],
   "source": [
    "produtos = ['iphone', 'galaxy', 'ipad', 'tv', 'máquina de café', 'kindle', 'geladeira', 'adega', 'notebook dell', 'notebook hp', 'notebook asus', 'microsoft surface', 'webcam', 'caixa de som', 'microfone', 'câmera canon']\n",
    "vendas2019 = [558147,712350,573823,405252,718654,531580,973139,892292,422760,154753,887061,438508,237467,489705,328311,591120]\n",
    "vendas2020 = [951642,244295,26964,787604,867660,78830,710331,646016,694913,539704,324831,667179,295633,725316,644622,994303]"
   ]
  },
  {
   "cell_type": "code",
   "execution_count": null,
   "id": "d7038b76",
   "metadata": {},
   "outputs": [],
   "source": [
    "for i, produto in enumerate(produtos):\n",
    "    if vendas2020[i] > vendas2019[i]:\n",
    "        percent_crescimento = vendas2020[i]/vendas2019[i] - 1\n",
    "        print('''A venda de {} teve um aumento de {:.2%} em 2020\n",
    "        Vendas 2019 ---> R${}\n",
    "        Vendas 2020 ---> R${}\n",
    "'''.format(produtos[i],percent_crescimento,vendas2019[i],vendas2020[i]))"
   ]
  },
  {
   "cell_type": "markdown",
   "id": "d978268f",
   "metadata": {},
   "source": [
    "# For dentro de For\n",
    "\n",
    "Quando temos listas dentro de listas, às vezes precisamos fazer um \"for dentro de for\""
   ]
  },
  {
   "cell_type": "raw",
   "id": "a2679acd",
   "metadata": {},
   "source": [
    "for item in lista: \n",
    "    for item2 in lista2:\n",
    "        codigo aqui"
   ]
  },
  {
   "cell_type": "markdown",
   "id": "3fe9fc23",
   "metadata": {},
   "source": [
    "Vamos pegar um exemplo de nível mínimo de estoque. Em uma fábrica você tem vários produtos e não pode deixar que os produtos fiquem em falta. Para isso, foi definido uma quantidade mínima de estoque que os produtos precisam ter:\n",
    "\n",
    "Identifique quais fábricas tem algum produto abaixo do nível de estoque\n",
    "\n",
    "- Agora ao invés de analisar o estoque de apenas 1 fábrica, vamos analisar o estoque de várias fábricas"
   ]
  },
  {
   "cell_type": "code",
   "execution_count": null,
   "id": "577d29cc",
   "metadata": {},
   "outputs": [],
   "source": [
    "estoque = [\n",
    "    [294, 125, 269, 208, 783, 852, 259, 371, 47, 102, 386, 87, 685, 686, 697, 941, 163, 631, 7, 714, 218, 670, 453],\n",
    "    [648, 816, 310, 555, 992, 643, 226, 319, 501, 23, 239, 42, 372, 441, 126, 645, 927, 911, 761, 445, 974, 2, 549],\n",
    "    [832, 683, 784, 449, 977, 705, 198, 937, 729, 327, 339, 10, 975, 310, 95, 689, 137, 795, 211, 538, 933, 751, 522],\n",
    "    [837, 168, 570, 397, 53, 297, 966, 714, 72, 737, 259, 629, 625, 469, 922, 305, 782, 243, 841, 848, 372, 621, 362],\n",
    "    [429, 242, 53, 985, 406, 186, 198, 50, 501, 870, 781, 632, 781, 105, 644, 509, 401, 88, 961, 765, 422, 340, 654],\n",
    "]\n",
    "fabricas = ['Lira Manufacturing', 'Fábrica Hashtag', 'Python Manufaturas', 'Produções e Cia', 'Manufatura e Cia']\n",
    "nivel_minimo = 50\n",
    "\n",
    "fab_falt=[]\n",
    "\n",
    "for i, lista in enumerate(estoque):\n",
    "    for item in lista:\n",
    "        if item < nivel_minimo:\n",
    "            if fabricas[i] in fab_falt:\n",
    "                pass \n",
    "            else:\n",
    "                fab_falt.append(fabricas[i])\n",
    "print(fab_falt)\n",
    "         \n",
    "    "
   ]
  },
  {
   "cell_type": "markdown",
   "id": "b30bca12",
   "metadata": {},
   "source": [
    "# Exercícios\n",
    "\n",
    "## 1. Calculando % de uma lista\n",
    "\n",
    "Digamos que a gente tenha uma lista de vendedores e ao invés de saber todos os vendedores que bateram a meta, eu quero conseguir calcular o % de vendedores que bateram a meta. Ou seja, se temos 10 vendedores e 3 bateram a meta, temos 30% dos vendedores que bateram a meta."
   ]
  },
  {
   "cell_type": "code",
   "execution_count": null,
   "id": "516f1741",
   "metadata": {},
   "outputs": [],
   "source": [
    "meta = 10000\n",
    "vendas = [\n",
    "    ['João', 15000],\n",
    "    ['Julia', 27000],\n",
    "    ['Marcus', 9900],\n",
    "    ['Maria', 3750],\n",
    "    ['Ana', 10300],\n",
    "    ['Alon', 7870],\n",
    "]"
   ]
  },
  {
   "cell_type": "markdown",
   "id": "20e0fe0b",
   "metadata": {},
   "source": [
    "- Vamos resolver de 2 formas:\n",
    "    1. Criando uma lista auxiliar apenas com os vendedores que bateram a meta\n",
    "    2. Fazendo o cálculo diretamente na lista que já temos"
   ]
  },
  {
   "cell_type": "code",
   "execution_count": null,
   "id": "316d23e1",
   "metadata": {},
   "outputs": [],
   "source": [
    "#metodo 1:\n",
    "print('\\n---método 1---\\n')\n",
    "\n",
    "bateram_a_meta=[]\n",
    "for venda in vendas:\n",
    "    if venda[1] >= meta:\n",
    "        bateram_a_meta.append(venda[0])\n",
    "        \n",
    "percent = len(bateram_a_meta)/len(vendas)\n",
    "print('{:.0%} bateram a meta'.format(percent))\n",
    "\n",
    "#metodo 2:\n",
    "print('\\n---método 2---\\n')\n",
    "\n",
    "num_pessoas=0\n",
    "for venda in vendas:\n",
    "    if venda[1] >= meta:\n",
    "        num_pessoas+=1\n",
    "        \n",
    "percent = num_pessoas/len(vendas)\n",
    "print('{:.0%} bateram a meta'.format(percent))"
   ]
  },
  {
   "cell_type": "markdown",
   "id": "b8a8c302",
   "metadata": {},
   "source": [
    "## Para treinar uma estrutura parecida, crie um código para responder: quem foi o vendedor que mais vendeu?"
   ]
  },
  {
   "cell_type": "code",
   "execution_count": null,
   "id": "ed6cfb1d",
   "metadata": {},
   "outputs": [],
   "source": [
    "mais_vendeu ='' \n",
    "maior_num = 0\n",
    "\n",
    "for venda in vendas:\n",
    "    if maior_num < venda[1]:\n",
    "        maior_num = venda[1]\n",
    "        mais_vendeu = venda[0]   \n",
    "print(mais_vendeu)\n",
    "'''\n",
    "        OU\n",
    "        \n",
    "!!!Mais complexo!!!\n",
    "\n",
    "maior = ['',0]\n",
    "\n",
    "for venda in vendas:\n",
    "    if venda[1] > maior[1]:\n",
    "        maior = venda.copy()\n",
    "print(maior)\n",
    "'''"
   ]
  },
  {
   "cell_type": "markdown",
   "id": "f53afb50",
   "metadata": {},
   "source": [
    "# Formas de interromper um for\n",
    "\n",
    "### 2 Opções:\n",
    "\n",
    "- break -> interrompe e finaliza o for\n",
    "- continue -> interrompe e vai para o próximo item do for"
   ]
  },
  {
   "cell_type": "code",
   "execution_count": null,
   "id": "461b3cf1",
   "metadata": {},
   "outputs": [],
   "source": [
    "vendas = [100, 150, 1500, 2000, 120]"
   ]
  },
  {
   "cell_type": "markdown",
   "id": "68e2d0f1",
   "metadata": {},
   "source": [
    "- Caso 1: Se todas as vendas forem acima da meta, a loja ganha bônus"
   ]
  },
  {
   "cell_type": "code",
   "execution_count": null,
   "id": "97a90e2c",
   "metadata": {},
   "outputs": [],
   "source": [
    "meta = 110\n",
    "for venda in vendas:\n",
    "    if venda < meta:\n",
    "        print('A loja nao ganha bonus')\n",
    "        break\n",
    "    print(venda)"
   ]
  },
  {
   "cell_type": "markdown",
   "id": "125d1798",
   "metadata": {},
   "source": [
    "- Caso 2: Exiba quem bateu a meta"
   ]
  },
  {
   "cell_type": "code",
   "execution_count": null,
   "id": "29181c6c",
   "metadata": {},
   "outputs": [],
   "source": [
    "vendedores = ['João', 'Julia', 'Ana', 'José', 'Maria']\n",
    "meta = 130\n",
    "\n",
    "for i, venda in enumerate(vendas):\n",
    "    if venda > meta:\n",
    "        print('{} bateu a meta'.format(vendedores[i]))\n",
    "    else:\n",
    "        continue "
   ]
  },
  {
   "cell_type": "markdown",
   "id": "a67e5594",
   "metadata": {},
   "source": [
    "# Estrutura while:\n",
    "\n",
    "### Funcionamento:\n",
    "\n",
    "Usamos o while quando queremos repetir um código de forma indeterminada até uma condição se tornar verdadeira/falsa.\n",
    "\n",
    "A lógica é: enquanto a condição for verdadeira, o while executa o código. Assim que ela terminar de ser verdadeira, o código \"sai\" do while."
   ]
  },
  {
   "cell_type": "raw",
   "id": "5a22a827",
   "metadata": {},
   "source": [
    "while condicao:\n",
    "    repete esse código"
   ]
  },
  {
   "cell_type": "markdown",
   "id": "39e84e65",
   "metadata": {},
   "source": [
    "- Exemplo: Quando criamos automações na internet\n",
    "- Exemplo2: Crie um programa que funcione como o registro de vendas de uma empresa.\n",
    "\n",
    "Nele, a pessoa deve inserir o nome do produto e o produto deve ser adicionado na lista de venda. Enquanto o usuário não encerrar o programa, significa que ele está registrando novos produtos, então o programa deve permitir e entrada de quantos produtos o usuário quiser."
   ]
  },
  {
   "cell_type": "code",
   "execution_count": null,
   "id": "ce8d3454",
   "metadata": {},
   "outputs": [],
   "source": [
    "venda = input('Registre um produto. Para cancelar o registro de um novo produto, basta apertar enter com a caixa vazia')\n",
    "vendas = []\n",
    "\n",
    "while venda!='':\n",
    "    vendas.append(venda)\n",
    "    venda = input('Registre um produto. Para cancelar o registro de um novo produto, basta apertar enter com a caixa vazia')\n",
    "    \n",
    "print('Registro Finalizado. As vendas cadastradas foram: {}'.format(vendas))"
   ]
  },
  {
   "cell_type": "markdown",
   "id": "7a8bc7b4",
   "metadata": {},
   "source": [
    "## Cuidado para nao cair em loops infinitos\n",
    "Sempre que for usar o comando while, lembre-se de ter certeza que o programa vai terminar em algum momento"
   ]
  },
  {
   "cell_type": "markdown",
   "id": "53b547e0",
   "metadata": {},
   "source": [
    "### Exemplo\n",
    "\n",
    "Digamos que temos uma lista de vendedores e as quantidades vendidas e queremos identificar todos os vendedores que bateram a meta de 50 vendas."
   ]
  },
  {
   "cell_type": "code",
   "execution_count": null,
   "id": "6deec9de",
   "metadata": {},
   "outputs": [],
   "source": [
    "vendedores = ['A','V','F','D','E','W','Q','T','U']\n",
    "venda = [343,324,321,254,243,133,67,11,4]\n",
    "meta = 50\n",
    "\n",
    "#MODO ERRADO \n",
    "'''\n",
    "i=0\n",
    "while vendas[i]>meta:\n",
    "    print('{} bateu a meta'.format(vendedores[i]))\n",
    "'''\n",
    "#MODO CERTO\n",
    "i=0\n",
    "while venda[i]>meta:\n",
    "    print('{} bateu a meta'.format(vendedores[i]))\n",
    "    i+=1\n",
    "    "
   ]
  },
  {
   "cell_type": "markdown",
   "id": "b64c1f65",
   "metadata": {},
   "source": [
    "# Exercícios\n",
    "\n",
    "## 1. Input até o usuário parar\n",
    "\n",
    "Vamos criar um sistema de vendas. Nosso programa deve registrar os produtos e as quantidades (2 inputs) e adicionar em uma lista.\n",
    "\n",
    "O programa deve continuar rodando até o input ser vazio, ou seja, o usuário apertar enter sem digitar nenhum produto ou quantidade.\n",
    "\n",
    "Ao final do programa, ele deve printar todos os produtos e quantidades vendidas.\n",
    "\n",
    "Obs: Caso queira, para o print ficar mais visual, pode usar o join para cada item ser printado em uma linha.\n",
    "Sugestão para sua lista de produtos vendidos:"
   ]
  },
  {
   "cell_type": "raw",
   "id": "0ca703e6",
   "metadata": {},
   "source": [
    "vendas = [\n",
    "    ['maçã', 5],\n",
    "    ['banana', 15],\n",
    "    ['azeite', 1],\n",
    "    ['vinho', 3],\n",
    "]"
   ]
  },
  {
   "cell_type": "markdown",
   "id": "c95c14d7",
   "metadata": {},
   "source": [
    "### Obs: Podemos fazer o While de 2 maneiras:\n",
    "\n",
    "1. While com a condição que finalize o programa\n",
    "2. While rodando para sempre, mas com uma condição dentro do while que dê um break no código.\n",
    "\n",
    "Vamos mostrar as 2 opções"
   ]
  },
  {
   "cell_type": "code",
   "execution_count": null,
   "id": "714d445d",
   "metadata": {},
   "outputs": [],
   "source": [
    "# modo 1 (PODE GERAR BUGS)\n",
    "\n",
    "produtos = input('Quais os produtos voce deseja adicionar a lista?')\n",
    "quantidades = input('Qual a quantidade voce deseja?\\n')\n",
    "lista_compras = []\n",
    "\n",
    "while produtos:\n",
    "    lista_compras.append([produtos,quantidades])\n",
    "    produtos = input('Quais os produtos voce deseja adicionar a lista?')\n",
    "    quantidades = input('Qual a quantidade voce deseja?\\n')\n",
    "    \n",
    "print(lista_compras)"
   ]
  },
  {
   "cell_type": "code",
   "execution_count": null,
   "id": "c8b195b9",
   "metadata": {},
   "outputs": [],
   "source": [
    "# modo 2 (MAIS RECOMENDADO)\n",
    "\n",
    "lista_compras = []\n",
    "\n",
    "while True:\n",
    "    produtos = input('Quais os produtos voce deseja adicionar a lista?')\n",
    "    if not produtos:\n",
    "        break\n",
    "    quantidades = int(input('Qual a quantidade voce deseja?\\n'))\n",
    "    lista_compras.append([produtos,quantidades])\n",
    "        \n",
    "print(lista_compras)"
   ]
  },
  {
   "cell_type": "code",
   "execution_count": null,
   "id": "527fff91",
   "metadata": {},
   "outputs": [],
   "source": []
  },
  {
   "cell_type": "code",
   "execution_count": null,
   "id": "b57e6ff6",
   "metadata": {},
   "outputs": [],
   "source": []
  }
 ],
 "metadata": {
  "kernelspec": {
   "display_name": "Python 3 (ipykernel)",
   "language": "python",
   "name": "python3"
  },
  "language_info": {
   "codemirror_mode": {
    "name": "ipython",
    "version": 3
   },
   "file_extension": ".py",
   "mimetype": "text/x-python",
   "name": "python",
   "nbconvert_exporter": "python",
   "pygments_lexer": "ipython3",
   "version": "3.9.7"
  }
 },
 "nbformat": 4,
 "nbformat_minor": 5
}
