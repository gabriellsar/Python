{
 "cells": [
  {
   "cell_type": "markdown",
   "id": "224f0670",
   "metadata": {},
   "source": [
    "# Dicionários em Python\n",
    "\n",
    "### Estrutura:\n",
    "\n",
    "dicionario = {chave: valor, chave: valor, chave: valor, chave: valor ...}\n",
    "\n",
    "### Vantagens e Desvantagens\n",
    "\n",
    "- Não devem ser usados para pegar itens em uma determinada ordem\n",
    "- Podem ter valores heterogêneos (vários tipos de valores dentro de um mesmo dicionário: inteiros, strings, listas, etc)\n",
    "- Chaves são únicas obrigatoriamente\n",
    "- Mais intuitivos de trabalhar"
   ]
  },
  {
   "cell_type": "code",
   "execution_count": null,
   "id": "3910b799",
   "metadata": {},
   "outputs": [],
   "source": [
    "mais_vendidos = {'tecnologia': 'iphone', 'refrigeracao': 'ar consul 12000 btu', 'livros': 'o alquimista', 'eletrodoméstico': 'geladeira', 'lazer': 'prancha surf'}\n",
    "\n",
    "vendas_tecnologia = {'iphone': 15000, 'samsung galaxy': 12000, 'tv samsung': 10000, 'ps5': 14300, 'tablet': 1720, 'ipad': 1000, 'tv philco': 2500, 'notebook hp': 1000, 'notebook dell': 17000, 'notebook asus': 2450}"
   ]
  },
  {
   "cell_type": "markdown",
   "id": "507bab6e",
   "metadata": {},
   "source": [
    "- Qual foi o item mais vendido nas categorias 'livros' e 'lazer'?\n",
    "- Quanto foi vendido de 'notebook asus' e de 'ipad'?"
   ]
  },
  {
   "cell_type": "code",
   "execution_count": null,
   "id": "dde2740f",
   "metadata": {},
   "outputs": [],
   "source": [
    "livro_mais_vndido=mais_vendidos['livros']\n",
    "lazer_mais_vndido=mais_vendidos['lazer']\n",
    "print(lazer_mais_vndido,livro_mais_vndido)\n",
    "\n",
    "qtd_noteasus=vendas_tecnologia['notebook asus']\n",
    "qtd_ipad=vendas_tecnologia['ipad']\n",
    "print(qtd_ipad,qtd_noteasus)"
   ]
  },
  {
   "cell_type": "markdown",
   "id": "aceb2a21",
   "metadata": {},
   "source": [
    "# Métodos Específicos de Dicionário"
   ]
  },
  {
   "cell_type": "markdown",
   "id": "f5f7c52a",
   "metadata": {},
   "source": [
    "- clear() -> Deleta todos os elementos do Dicionário (semelhante ao que aprendemos em listas)"
   ]
  },
  {
   "cell_type": "code",
   "execution_count": null,
   "id": "e217833f",
   "metadata": {},
   "outputs": [],
   "source": [
    "vendas_mes = {'jan': 150, 'fev': 100, 'mar': 190}\n",
    "vendas_mes.clear()\n",
    "print(vendas_mes)"
   ]
  },
  {
   "cell_type": "markdown",
   "id": "59cc4f2f",
   "metadata": {},
   "source": [
    "- copy() -> Cria uma cópia do dicionário (semelhante ao que aprendemos em listas)"
   ]
  },
  {
   "cell_type": "code",
   "execution_count": null,
   "id": "e2271759",
   "metadata": {},
   "outputs": [],
   "source": [
    "vendas_mes = {'jan': 150, 'fev': 100, 'mar': 190}\n",
    "vendas2_mes = vendas_mes.copy()\n",
    "print(vendas2_mes)"
   ]
  },
  {
   "cell_type": "markdown",
   "id": "153e1bdb",
   "metadata": {},
   "source": [
    "- fromkeys(chaves, valor_padrao) -> Cria um dicionário com as chaves e o mesmo valor padrão para todas as chaves"
   ]
  },
  {
   "cell_type": "code",
   "execution_count": null,
   "id": "5a8f6d71",
   "metadata": {},
   "outputs": [],
   "source": [
    "chaves = ('jan', 'fev', 'mar')\n",
    "vendas = 100\n",
    "vendas_mes = dict.fromkeys(chaves, vendas)\n",
    "print(vendas_mes) "
   ]
  },
  {
   "cell_type": "markdown",
   "id": "a7199de6",
   "metadata": {},
   "source": [
    "- get(chave) -> \tRetorna o valor especificado pela chave (Semelhante a fazer dictionario[chave]"
   ]
  },
  {
   "cell_type": "code",
   "execution_count": null,
   "id": "92fb1ec2",
   "metadata": {},
   "outputs": [],
   "source": [
    "vendas_mes = {'jan': 150, 'fev': 100, 'mar': 190}\n",
    "print(vendas_mes.get('mar'))"
   ]
  },
  {
   "cell_type": "markdown",
   "id": "99fa4a6e",
   "metadata": {},
   "source": [
    "- items() -> Retorna uma lista em que cada item é uma tupla com (chave, valor)"
   ]
  },
  {
   "cell_type": "code",
   "execution_count": null,
   "id": "f8ddf6cc",
   "metadata": {},
   "outputs": [],
   "source": [
    "vendas_mes = {'jan': 150, 'fev': 100, 'mar': 190}\n",
    "print(list(vendas_mes.items()))"
   ]
  },
  {
   "cell_type": "markdown",
   "id": "6be9b3b1",
   "metadata": {},
   "source": [
    "- keys() -> Retorna uma lista com todas as chaves do dicionário"
   ]
  },
  {
   "cell_type": "code",
   "execution_count": null,
   "id": "d9d51cb6",
   "metadata": {},
   "outputs": [],
   "source": [
    "vendas_mes = {'jan': 150, 'fev': 100, 'mar': 190}\n",
    "print(list(vendas_mes.keys()))"
   ]
  },
  {
   "cell_type": "markdown",
   "id": "8a1f5b8b",
   "metadata": {},
   "source": [
    "- pop(chave) -> Retira o item do dicionário e retorna o valor dele para ser usado"
   ]
  },
  {
   "cell_type": "code",
   "execution_count": null,
   "id": "3dea333d",
   "metadata": {},
   "outputs": [],
   "source": [
    "vendas_mes = {'jan': 150, 'fev': 100, 'mar': 190}\n",
    "vendas_fev = vendas_mes.pop('fev') #retira o fevereiro do dicionário ao mesmo tempo que armazena o valor dele na variável\n",
    "print(vendas_mes)\n",
    "print(vendas_fev)"
   ]
  },
  {
   "cell_type": "markdown",
   "id": "f1eff6d2",
   "metadata": {},
   "source": [
    "- popitem() -> Retira o último item adicionado ao dicionário"
   ]
  },
  {
   "cell_type": "code",
   "execution_count": null,
   "id": "b66a9740",
   "metadata": {},
   "outputs": [],
   "source": [
    "vendas_mes = {'jan': 150, 'fev': 100, 'mar': 190}\n",
    "#retira o último item adicionado no dicionário ao mesmo tempo que armazena o item(chave, valor) dele na variável\n",
    "vendas_ult = vendas_mes.popitem() \n",
    "print(vendas_mes)\n",
    "print(vendas_ult)"
   ]
  },
  {
   "cell_type": "markdown",
   "id": "435608dd",
   "metadata": {},
   "source": [
    "- setdefault(chave, valor) -> Retorna o valor da chave passada, mas caso a chave não exista, cria no dicionário o item com a chave e valor passados."
   ]
  },
  {
   "cell_type": "code",
   "execution_count": null,
   "id": "d0074f15",
   "metadata": {},
   "outputs": [],
   "source": [
    "vendas_mes = {'jan': 150, 'fev': 100, 'mar': 190}\n",
    "vendas_fev = vendas_mes.setdefault('fev', 500)\n",
    "print(vendas_fev)\n",
    "#repare que como fevereiro existe na lista, ele procura pelo valor de fevereiro e ignora o 500 passado\n",
    "#agora quando não existe na lista:\n",
    "vendas_abr = vendas_mes.setdefault('abr', 600)\n",
    "#repare que agora além de vendas_abr retornar o 600 como valor, ele adicionou um item no dicionario\n",
    "print(vendas_abr)\n",
    "print(vendas_mes)"
   ]
  },
  {
   "cell_type": "markdown",
   "id": "3154a0f6",
   "metadata": {},
   "source": [
    "- update(dicionario) -> Adiciona o dicionário passado como parâmetro ao dicionário original"
   ]
  },
  {
   "cell_type": "code",
   "execution_count": null,
   "id": "3e466f60",
   "metadata": {},
   "outputs": [],
   "source": [
    "vendas_mes = {'jan': 150, 'fev': 100, 'mar': 190}\n",
    "vendas_2tri = {'abr': 400, 'mai': 600, 'jun': 500}\n",
    "vendas_mes.update(vendas_2tri)\n",
    "print(vendas_mes)"
   ]
  },
  {
   "cell_type": "markdown",
   "id": "a347a5c0",
   "metadata": {},
   "source": [
    "- values() -> Retorna uma lista com todos os valores do dicionários"
   ]
  },
  {
   "cell_type": "code",
   "execution_count": null,
   "id": "e0b7d879",
   "metadata": {},
   "outputs": [],
   "source": [
    "vendas_mes = {'jan': 150, 'fev': 100, 'mar': 190}\n",
    "print(list(vendas_mes.values()))"
   ]
  },
  {
   "cell_type": "markdown",
   "id": "61c27f83",
   "metadata": {},
   "source": [
    "# For nos Dicionarios\n",
    "\n",
    "### Estrutura:"
   ]
  },
  {
   "cell_type": "raw",
   "id": "9a4769cf",
   "metadata": {},
   "source": [
    "for chave in dicionario:\n",
    "    faça alguma coisa"
   ]
  },
  {
   "cell_type": "markdown",
   "id": "a0ff90a2",
   "metadata": {},
   "source": [
    "- Qual o total de notebooks vendidos?"
   ]
  },
  {
   "cell_type": "code",
   "execution_count": null,
   "id": "e2f41dd3",
   "metadata": {},
   "outputs": [],
   "source": [
    "vendas_tecnologia = {'iphone': 15000, 'samsung galaxy': 12000, 'tv samsung': 10000, 'ps5': 14300, 'tablet': 1720, 'ipad': 1000, 'tv philco': 2500, 'notebook hp': 1000, 'notebook dell': 17000, 'notebook asus': 2450}\n",
    "soma=0\n",
    "\n",
    "for chave in vendas_tecnologia:\n",
    "    if 'notebook' in chave:\n",
    "        soma+=vendas_tecnologia[chave]\n",
    "print(soma)\n",
    "        "
   ]
  },
  {
   "cell_type": "markdown",
   "id": "87711691",
   "metadata": {},
   "source": [
    "# Exercícios\n",
    "\n",
    "## 1. Identificando Locais de Risco\n",
    "\n",
    "(Não conhecemos muito dos números e indicadores reais, esse é um exercício imaginário para treinarmos com um cenário mais prático)\n",
    "\n",
    "Digamos que você está construindo um programa para identificar níveis de CO2 (gás carbônico) em determinados locais para evitar potenciais acidentes. Em cada um desses locais a sua empresa tem 5 sensores que captam o nível de CO2 do local.\n",
    "\n",
    "Os níveis normais de CO2 são em média 350. O nível de CO2 de um local é dado pela média captada pelos 5 sensores.\n",
    "\n",
    "Isso significa que se tivermos os 5 sensores do Rio de Janeiro marcando: 350, 400, 450, 350, 300, o nível de CO2 do Rio de Janeiro será dado por: (350 + 400 + 450 + 350 + 300) / 5 = 370.\n",
    "\n",
    "Caso o nível seja maior do que 450, um aviso deve ser exibido pelo seu programa dizendo, por exemplo: Rio de Janeiro está com níveis altíssimos de CO2 (490), chamar equipe especializada para verificar a região.\n",
    "\n",
    "Os resultados dos sensores são monitorados frequentemente e são dados para o sistema em forma de dicionário:"
   ]
  },
  {
   "cell_type": "code",
   "execution_count": null,
   "id": "f174b1f6",
   "metadata": {},
   "outputs": [],
   "source": [
    "niveis_co2 = {\n",
    "    'AC': [325,405,429,486,402],\n",
    "    'AL': [492,495,310,407,388],\n",
    "    'AP': [507,503,368,338,400],\n",
    "    'AM': [429,456,352,377,363],\n",
    "    'BA': [321,508,372,490,412],\n",
    "    'CE': [424,328,425,516,480],\n",
    "    'ES': [449,506,461,337,336],\n",
    "    'GO': [425,460,385,485,460],\n",
    "    'MA': [361,310,344,425,490],\n",
    "    'MT': [358,402,425,386,379],\n",
    "    'MS': [324,357,441,405,427],\n",
    "    'MG': [345,367,391,427,516],\n",
    "    'PA': [479,514,392,493,329],\n",
    "    'PB': [418,499,317,302,476],\n",
    "    'PR': [420,508,419,396,327],\n",
    "    'PE': [404,444,495,320,343],\n",
    "    'PI': [513,513,304,377,475],\n",
    "    'RJ': [502,481,492,502,506],\n",
    "    'RN': [446,437,519,356,317],\n",
    "    'RS': [427,518,459,317,321],\n",
    "    'RO': [517,466,512,326,458],\n",
    "    'RR': [466,495,469,495,310],\n",
    "    'SC': [495,436,382,483,479],\n",
    "    'SP': [495,407,362,389,317],\n",
    "    'SE': [508,351,334,389,418],\n",
    "    'TO': [339,490,304,488,419],\n",
    "    'DF': [376,516,320,310,518], \n",
    "}\n",
    "\n",
    "for chave in niveis_co2:\n",
    "    if sum(niveis_co2[chave])/len(niveis_co2[chave]) >450:\n",
    "        print('O ESTADO DO {} ESTA EM PERIGOO'.format(chave))\n",
    "    "
   ]
  },
  {
   "cell_type": "markdown",
   "id": "cf2ca105",
   "metadata": {},
   "source": [
    "## 2. Case da Hashtag\n",
    "\n",
    "Recentemente tivemos que fazer backup dos vídeos que temos hospedados no Vimeo. Acontece que não existe um botão de Download de todos os vídeos ao mesmo tempo, precisamos entrar em 1 por 1 e fazer o download manualmente.\n",
    "\n",
    "A alternativa é gerar um código em Python que converse com a API do Vimeo (API é uma integração que as ferramentas abrem para programadores poderem fazer integrações dos seus próprios programas/scripts com a ferramenta).\n",
    "\n",
    "Para resolver isso, a gente fez a integração e fizemos uma \"requisição\" de todos os vídeos para a Vimeo. Essa requisição dá como resposta para o nosso código isso:"
   ]
  },
  {
   "cell_type": "code",
   "execution_count": null,
   "id": "ba49f91a",
   "metadata": {},
   "outputs": [],
   "source": [
    "video = {'uri': '/videos/465407533', 'name': '15 Atalhos no Excel para Ficar Mais Produtivo', 'download': [{'quality': 'source', 'type': 'source', 'width': 1920, 'height': 1080, 'expires': '2020-10-07T04:00:55+00:00', 'link': 'https://player.vimeo.com/play/2064518513?s=465407533_1602043255_5f2f93dd00b66eba66d481f913383b4f&loc=external&context=Vimeo%5CController%5CApi%5CResources%5CUser%5CVideosController.&download=1&filename=15%2BAtalhos%2Bno%2BExcel%2Bpara%2BFicar%2BMais%2BProdutivosource.mp4', 'created_time': '2020-10-06T14:26:17+00:00', 'fps': 30, 'size': 402678442, 'md5': 'af09508ceceed4994554f04e8b931e22', 'public_name': 'Original', 'size_short': '384.02MB'}, {'quality': 'hd', 'type': 'video/mp4', 'width': 1920, 'height': 1080, 'expires': '2020-10-07T04:00:55+00:00', 'link': 'https://player.vimeo.com/play/2064523157?s=465407533_1602043255_ab7b8353c59b5048032396ec5d95a276&loc=external&context=Vimeo%5CController%5CApi%5CResources%5CUser%5CVideosController.&download=1&filename=15%2BAtalhos%2Bno%2BExcel%2Bpara%2BFicar%2BMais%2BProdutivo175.mp4', 'created_time': '2020-10-06T14:29:06+00:00', 'fps': 30, 'size': 173556205, 'md5': '3c05e1e69bd6b13eb1464451033907d2', 'public_name': 'HD 1080p', 'size_short': '165.52MB'}, {'quality': 'sd', 'type': 'video/mp4', 'width': 960, 'height': 540, 'expires': '2020-10-07T04:00:55+00:00', 'link': 'https://player.vimeo.com/play/2064523153?s=465407533_1602043255_f5ac38009ec5c0a13b30600c631446a3&loc=external&context=Vimeo%5CController%5CApi%5CResources%5CUser%5CVideosController.&download=1&filename=15%2BAtalhos%2Bno%2BExcel%2Bpara%2BFicar%2BMais%2BProdutivo165.mp4', 'created_time': '2020-10-06T14:29:06+00:00', 'fps': 30, 'size': 89881848, 'md5': '4a5c5c96cdf18202ed20ca534fd88007', 'public_name': 'SD 540p', 'size_short': '85.72MB'}, {'quality': 'sd', 'type': 'video/mp4', 'width': 426, 'height': 240, 'expires': '2020-10-07T04:00:55+00:00', 'link': 'https://player.vimeo.com/play/2064522788?s=465407533_1602043255_16c69872e2c4e92cc949d0b772242959&loc=external&context=Vimeo%5CController%5CApi%5CResources%5CUser%5CVideosController.&download=1&filename=15%2BAtalhos%2Bno%2BExcel%2Bpara%2BFicar%2BMais%2BProdutivo139.mp4', 'created_time': '2020-10-06T14:28:31+00:00', 'fps': 30, 'size': 27401450, 'md5': '91cc0229087ec94bf67f64b01ad8768d', 'public_name': 'SD 240p', 'size_short': '26.13MB'}, {'quality': 'sd', 'type': 'video/mp4', 'width': 640, 'height': 360, 'expires': '2020-10-07T04:00:55+00:00', 'link': 'https://player.vimeo.com/play/2064522787?s=465407533_1602043255_310b087e2fc8c5e1154ce7a33d10d60e&loc=external&context=Vimeo%5CController%5CApi%5CResources%5CUser%5CVideosController.&download=1&filename=15%2BAtalhos%2Bno%2BExcel%2Bpara%2BFicar%2BMais%2BProdutivo164.mp4', 'created_time': '2020-10-06T14:28:31+00:00', 'fps': 30, 'size': 48627155, 'md5': '548640bf79ce1552a3401726bb0e4224', 'public_name': 'SD 360p', 'size_short': '46.37MB'}]}\n",
    "#printar o link do video"
   ]
  },
  {
   "cell_type": "code",
   "execution_count": null,
   "id": "1b9fe416",
   "metadata": {},
   "outputs": [],
   "source": [
    "\n",
    "for i,link in enumerate(video):\n",
    "    print('link ---> {}\\n'.format(video['download'][i]['link']))"
   ]
  },
  {
   "cell_type": "markdown",
   "id": "b0847903",
   "metadata": {},
   "source": [
    "# Transformando Listas em Dicionários e Function zip\n",
    "\n",
    "### Estrutura:\n",
    "\n",
    "- Dicionário com valores padrões:\n",
    "\n",
    "dicionario = dict.fromkeys(lista_chaves, valor_padrao)\n",
    "\n",
    "- Dicionário a partir de listas de tuplas:\n",
    "\n",
    "dicionario = dict(lista_tuplas)\n",
    "\n",
    "- Dicionário a partir de 2 listas:\n",
    "\n",
    "Passo 1: Transformar listas em lista de tuplas com o método zip<br>\n",
    "Passo 2: Transformar em dicionario\n",
    "\n",
    "lista_tuplas = zip(lista1, lista2)<br>\n",
    "dicionario = dict(lista_tuplas)"
   ]
  },
  {
   "cell_type": "code",
   "execution_count": null,
   "id": "b938bc36",
   "metadata": {},
   "outputs": [],
   "source": [
    "produtos = ['iphone', 'samsung galaxy', 'tv samsung', 'ps5', 'tablet', 'ipad', 'tv philco', 'notebook hp', 'notebook dell', 'notebook asus']\n",
    "vendas = [15000, 12000, 10000, 14300, 1720, 1000, 2500, 1000, 17000, 2450]\n",
    "\n",
    "lista_tuplas = zip(produtos,vendas)\n",
    "dicionario = dict(lista_tuplas)\n",
    "\n",
    "print(dicionario)"
   ]
  },
  {
   "cell_type": "markdown",
   "id": "37adc2e9",
   "metadata": {},
   "source": [
    "- Quanto vendemos de ipad?"
   ]
  },
  {
   "cell_type": "code",
   "execution_count": null,
   "id": "8c1e1c7a",
   "metadata": {},
   "outputs": [],
   "source": [
    "i=produtos.index('ipad')\n",
    "print(vendas[i])\n",
    "\n",
    "print(dicionario['ipad'])\n",
    "\n"
   ]
  },
  {
   "cell_type": "markdown",
   "id": "d9f039ae",
   "metadata": {},
   "source": [
    "# Exercícios\n",
    "## 1. Exercício \"menos prático\" para treinar manipulação de dicionário\n",
    "- Dessa vez, vamos apenas treinar a manipulação de dicionário. Transforme as listas abaixo em 1 único dicionário no formato:"
   ]
  },
  {
   "cell_type": "raw",
   "id": "5e08201a",
   "metadata": {},
   "source": [
    "dicionario = {\n",
    "    produto: [vendas2019, vendas2020],\n",
    "    produto2: [vendas2019, vendas2020],\n",
    "    produto3: [vendas2019, vendas2020],\n",
    "    ...\n",
    "}"
   ]
  },
  {
   "cell_type": "markdown",
   "id": "d7d402cf",
   "metadata": {},
   "source": [
    "- Apesar de parecer \"menos prático\" esse é um procedimento que precisamos nos acostumar a fazer, visto que algumas funções (tema dos próximos módulos) precisam de dicionários para funcionar e saber transformar listas em dicionários (e vice-versa) é uma habilidade muito útil\n",
    "\n",
    "Obs: Lembre do zip para juntar listas.<br>\n",
    "Obs2: Repare que cada item das vendas é na verdade uma lista. Então é provável que você precise fazer esse código em 2 etapas"
   ]
  },
  {
   "cell_type": "code",
   "execution_count": null,
   "id": "fd05e99e",
   "metadata": {},
   "outputs": [],
   "source": [
    "produtos = ['iphone', 'galaxy', 'ipad', 'tv', 'máquina de café', 'kindle', 'geladeira', 'adega', 'notebook dell', 'notebook hp', 'notebook asus', 'microsoft surface', 'webcam', 'caixa de som', 'microfone', 'câmera canon']\n",
    "vendas2019 = [558147,712350,573823,405252,718654,531580,973139,892292,422760,154753,887061,438508,237467,489705,328311,591120]\n",
    "vendas2020 = [951642,244295,26964,787604,867660,78830,710331,646016,694913,539704,324831,667179,295633,725316,644622,994303]\n",
    "\n",
    "lista_tuplas_vendas = zip(vendas2019,vendas2020)\n",
    "lista_tuplas_vendaproduto = zip(produtos,lista_tuplas_vendas)\n",
    "dicionario_venda2019 = dict(lista_tuplas_vendaproduto)\n",
    "print(dicionario_venda2019)\n",
    "\n"
   ]
  }
 ],
 "metadata": {
  "kernelspec": {
   "display_name": "Python 3 (ipykernel)",
   "language": "python",
   "name": "python3"
  },
  "language_info": {
   "codemirror_mode": {
    "name": "ipython",
    "version": 3
   },
   "file_extension": ".py",
   "mimetype": "text/x-python",
   "name": "python",
   "nbconvert_exporter": "python",
   "pygments_lexer": "ipython3",
   "version": "3.9.7"
  }
 },
 "nbformat": 4,
 "nbformat_minor": 5
}
